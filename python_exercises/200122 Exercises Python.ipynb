{
 "cells": [
  {
   "cell_type": "markdown",
   "metadata": {},
   "source": [
    "## get_uniprot_table.py  \n",
    "requests and Uniprot\n",
    "\n",
    "We would like to have a function uniprotquery2pandas() that sends a query to UniProt and returns data in a panda's DataFrame  \n",
    "Use as test case: http://www.uniprot.org/uniprot/?query=muscarinic+receptor&sort=score&format=tab  \n",
    "The function should be called uniprotquery2pandas(‘ muscarinic+receptor ’’)), but it should work with any text query.\n",
    "For the ‘muscarinic+receptor ’ query, which is the median of the length for proteins with Status reviewed? And with Status unreviewed?  \n",
    "**HINT**: df = pd.DataFrame (data=data_in_rows, columns=column_names)  "
   ]
  },
  {
   "cell_type": "code",
   "execution_count": null,
   "metadata": {},
   "outputs": [],
   "source": [
    "import requests\n",
    "import pandas as pd\n"
   ]
  },
  {
   "cell_type": "code",
   "execution_count": null,
   "metadata": {},
   "outputs": [],
   "source": [
    "input\n",
    "url = 'http://www.uniprot.org/uniprot/?query=muscarinic+receptor&sort=score&format=tab'"
   ]
  },
  {
   "cell_type": "code",
   "execution_count": 2,
   "metadata": {},
   "outputs": [
    {
     "name": "stdout",
     "output_type": "stream",
     "text": [
      "Collecting package metadata (current_repodata.json): ...working... done\n",
      "Solving environment: ...working... done\n",
      "\n",
      "## Package Plan ##\n",
      "\n",
      "  environment location: C:\\Users\\worten\\Anaconda3\n",
      "\n",
      "  added / updated specs:\n",
      "    - pandas\n",
      "\n",
      "\n",
      "The following packages will be downloaded:\n",
      "\n",
      "    package                    |            build\n",
      "    ---------------------------|-----------------\n",
      "    conda-4.8.1                |           py37_0         2.8 MB\n",
      "    ------------------------------------------------------------\n",
      "                                           Total:         2.8 MB\n",
      "\n",
      "The following packages will be UPDATED:\n",
      "\n",
      "  conda                                       4.7.12-py37_0 --> 4.8.1-py37_0\n",
      "\n",
      "\n",
      "\n",
      "Downloading and Extracting Packages\n",
      "\n",
      "conda-4.8.1          | 2.8 MB    |            |   0% \n",
      "conda-4.8.1          | 2.8 MB    |            |   1% \n",
      "conda-4.8.1          | 2.8 MB    | 3          |   4% \n",
      "conda-4.8.1          | 2.8 MB    | 8          |   9% \n",
      "conda-4.8.1          | 2.8 MB    | #4         |  14% \n",
      "conda-4.8.1          | 2.8 MB    | #7         |  17% \n",
      "conda-4.8.1          | 2.8 MB    | #9         |  20% \n",
      "conda-4.8.1          | 2.8 MB    | ##2        |  23% \n",
      "conda-4.8.1          | 2.8 MB    | ##5        |  25% \n",
      "conda-4.8.1          | 2.8 MB    | ##9        |  30% \n",
      "conda-4.8.1          | 2.8 MB    | ###3       |  33% \n",
      "conda-4.8.1          | 2.8 MB    | ###5       |  36% \n",
      "conda-4.8.1          | 2.8 MB    | ###9       |  39% \n",
      "conda-4.8.1          | 2.8 MB    | ####4      |  44% \n",
      "conda-4.8.1          | 2.8 MB    | ####8      |  48% \n",
      "conda-4.8.1          | 2.8 MB    | #####2     |  53% \n",
      "conda-4.8.1          | 2.8 MB    | #####9     |  59% \n",
      "conda-4.8.1          | 2.8 MB    | ######6    |  66% \n",
      "conda-4.8.1          | 2.8 MB    | #######4   |  74% \n",
      "conda-4.8.1          | 2.8 MB    | ########   |  81% \n",
      "conda-4.8.1          | 2.8 MB    | ########7  |  88% \n",
      "conda-4.8.1          | 2.8 MB    | #########3 |  94% \n",
      "conda-4.8.1          | 2.8 MB    | #########9 | 100% \n",
      "conda-4.8.1          | 2.8 MB    | ########## | 100% \n",
      "Preparing transaction: ...working... done\n",
      "Verifying transaction: ...working... done\n",
      "Executing transaction: ...working... done\n",
      "\n",
      "Note: you may need to restart the kernel to use updated packages.\n"
     ]
    }
   ],
   "source": [
    "#def uniprotquery2pandas()\n",
    "\n",
    "\n",
    "req = requests.get(url)\n",
    "lines = req.lines\n",
    "    "
   ]
  }
 ],
 "metadata": {
  "kernelspec": {
   "display_name": "Python 3",
   "language": "python",
   "name": "python3"
  },
  "language_info": {
   "codemirror_mode": {
    "name": "ipython",
    "version": 3
   },
   "file_extension": ".py",
   "mimetype": "text/x-python",
   "name": "python",
   "nbconvert_exporter": "python",
   "pygments_lexer": "ipython3",
   "version": "3.7.4"
  }
 },
 "nbformat": 4,
 "nbformat_minor": 2
}
