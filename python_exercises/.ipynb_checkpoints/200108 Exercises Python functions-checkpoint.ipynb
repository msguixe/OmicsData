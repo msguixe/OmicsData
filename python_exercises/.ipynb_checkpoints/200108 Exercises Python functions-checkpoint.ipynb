{
 "cells": [
  {
   "cell_type": "markdown",
   "metadata": {},
   "source": [
    "## Complementary.py\n",
    "\n",
    "### Complementary and reverse sequences\n",
    "\n",
    "Create a program (complementary.py ) with 3 functions:\n",
    "\n",
    "compl(): returns the complementary DNA strand\n",
    "(AACTAAG -> TTGATTC).\n",
    "\n",
    "reverse(): returns the same strand, but reversed\n",
    "(AACTAAG -> GAATCAA).\n",
    "\n",
    "reverse_compl(): returns the reverse complementary strand\n",
    "(AACTAAG -> CTTAGTT)\n",
    "\n",
    "that given a DNA sequence prints the complementary, the reverse and the reverse complementary sequences\n",
    "\n",
    "HINT: try seq 1 ] or list reversed seq"
   ]
  },
  {
   "cell_type": "code",
   "execution_count": 28,
   "metadata": {},
   "outputs": [
    {
     "data": {
      "text/plain": [
       "'TAAT'"
      ]
     },
     "execution_count": 28,
     "metadata": {},
     "output_type": "execute_result"
    }
   ],
   "source": [
    "def compl(seq):\n",
    "    \"\"\"Creates the complementary of a given DNA sequence\n",
    "      str -> str\"\"\"\n",
    "    base_compl = {'A': 'T', 'G': 'C', 'C': 'G', 'T': 'A'}\n",
    "    compl_seq = ''\n",
    "    for base in seq:\n",
    "        compl_seq += base_compl[base]\n",
    "    return compl_seq\n",
    "\n",
    "compl('ATTA')\n"
   ]
  },
  {
   "cell_type": "code",
   "execution_count": 30,
   "metadata": {},
   "outputs": [
    {
     "name": "stdout",
     "output_type": "stream",
     "text": [
      "TAAT\n",
      "CGAACCTTA\n",
      "CGAACCTTA\n"
     ]
    }
   ],
   "source": [
    "def reverse(seq):\n",
    "    \"\"\"Creates the reverse of a given DNA sequence\n",
    "      str -> str\"\"\"\n",
    "    return seq[::-1]\n",
    "\n",
    "reverse('ATTCCAAGC')\n",
    "\n",
    "def reverse2(seq):\n",
    "    \"\"\"Creates the reverse of a given DNA sequence\n",
    "      str -> str\"\"\"\n",
    "    ''.join(list(reversed(seq)))\n",
    "    return seq[::-1]\n",
    "\n",
    "def reverse3(seq):\n",
    "    '''str --> str\n",
    "    Returns the reverse sequence of seq\n",
    "    Ex: reverse('AACTAAG'): 'GAATCAA' \n",
    "    '''\n",
    "    seq_rev = ''\n",
    "    for s in seq:\n",
    "        seq_rev = s + seq_rev\n",
    "    return seq_rev\n",
    "\n",
    "print(reverse('TAAT'))\n",
    "print(reverse2('ATTCCAAGC'))\n",
    "print(reverse3('ATTCCAAGC'))"
   ]
  },
  {
   "cell_type": "code",
   "execution_count": 3,
   "metadata": {},
   "outputs": [
    {
     "data": {
      "text/plain": [
       "'TCCGAAAT'"
      ]
     },
     "execution_count": 3,
     "metadata": {},
     "output_type": "execute_result"
    }
   ],
   "source": [
    "def rev_compl(seq):\n",
    "    \"\"\"Creates the reverse from the complementary of a given sequence\n",
    "    str -> str\"\"\"\n",
    "    return compl(reverse(seq))\n",
    "\n",
    "rev_compl('ATTTCGGA')"
   ]
  },
  {
   "cell_type": "markdown",
   "metadata": {},
   "source": [
    "### Palindrome\n",
    "Algorithm 1  \n",
    "- From ACCTAGGT build the complementary TGGATCCA  \n",
    "\n",
    "- Reverse this complementary sequence:  \n",
    "TGGATCCA → ACCTAGGT  \n",
    "01234567 → 76543210\n",
    "\n",
    "- If the reversed complementary sequence is the same as the original -> is palindromic"
   ]
  },
  {
   "cell_type": "code",
   "execution_count": 75,
   "metadata": {},
   "outputs": [
    {
     "name": "stdout",
     "output_type": "stream",
     "text": [
      "('The sequence is palindromic', 'TTTAAA', 'TTTAAA')\n",
      "('The sequence is not palindromic', 'ATT', 'AAT')\n"
     ]
    }
   ],
   "source": [
    "def palin1(seq):\n",
    "    \"\"\"Returns a boolean confirming if a given sequence is a palindrome\n",
    "    str -> boolean\"\"\"\n",
    "    \n",
    "    base_compl = {'A': 'T', 'G': 'C', 'C': 'G', 'T': 'A'}\n",
    "    compl_seq = ''\n",
    "    for base in seq:\n",
    "        compl_seq += base_compl[base]\n",
    "    \n",
    "\n",
    "    rev_compl_seq = compl_seq[::-1]\n",
    "    \n",
    "    if seq == rev_compl_seq:\n",
    "        output = \"The sequence is palindromic\"\n",
    "    else:\n",
    "        output = \"The sequence is not palindromic\"\n",
    "    return output, seq, rev_compl_seq\n",
    "    \n",
    "\n",
    "print(palin1('TTTAAA'))\n",
    "print(palin1('ATT'))\n"
   ]
  },
  {
   "cell_type": "markdown",
   "metadata": {},
   "source": [
    "Algorithm 2\n",
    "\n",
    "-  Divide ACCTAGGT in two halves (ACCT,AGGT)  \n",
    "\n",
    "-  Take the second half (AGGT) and build the complementary sequence of (TCCA).  \n",
    "-  Reverse the complementary sequence of the second half:  \n",
    "TCCA → ACCT  \n",
    "0123 → 3210  \n",
    "\n",
    "-  If the first half (ACCT) is the same as the reversed complementary second half (ACCT) -> is palindromic"
   ]
  },
  {
   "cell_type": "code",
   "execution_count": 76,
   "metadata": {},
   "outputs": [
    {
     "name": "stdout",
     "output_type": "stream",
     "text": [
      "('TTT', 'AAA', 'TTT', 'The sequence is palindromic')\n",
      "('AT', 'T', 'A', 'The sequence is not palindromic')\n"
     ]
    }
   ],
   "source": [
    "def palin2(seq):   \n",
    "    \"\"\"Returns a boolean confirming if a given sequence is a palindrome\n",
    "    str -> boolean\"\"\"\n",
    "    \n",
    "    halfseq_length = round(len(seq)/2)\n",
    "    \n",
    "    first_half = seq[0:halfseq_length]\n",
    "    second_half = seq[halfseq_length:len(seq)]\n",
    "    \n",
    "    base_compl = {'A': 'T', 'G': 'C', 'C': 'G', 'T': 'A'}\n",
    "    second_compl_seq = ''\n",
    "    for base in second_half:\n",
    "        second_compl_seq += base_compl[base]\n",
    "        \n",
    "    if first_half == second_compl_seq:\n",
    "        output = \"The sequence is palindromic\"\n",
    "    else:\n",
    "        output = \"The sequence is not palindromic\"\n",
    "    \n",
    "    return first_half, second_half, second_compl_seq, output\n",
    "\n",
    "print(palin2('TTTAAA'))\n",
    "print(palin2('ATT'))"
   ]
  },
  {
   "cell_type": "markdown",
   "metadata": {},
   "source": [
    "Algorithm 3\n",
    "\n",
    "-  Take the first and the last base of ACCTAGGT ( A s[0], T s[ 1]).  \n",
    "\n",
    "-  Transform the last base (T s[ 1]) to the complementary pair (A).  \n",
    "\n",
    "-  Compare the first base ( A s[0]) and the complementary of the last (A).  \n",
    "\n",
    "-  If they are not equal, the sequence cannot be palindromic (no need to continue comparing).  \n",
    "\n",
    "-  If they are equal: proceed repeating the same operation with indexes [1] and [ 2], [2] and [ 3] and so on …  \n",
    "\n",
    "-  If we reach the centre of the sequence, it is palindromic  "
   ]
  },
  {
   "cell_type": "code",
   "execution_count": 40,
   "metadata": {
    "slideshow": {
     "slide_type": "-"
    }
   },
   "outputs": [
    {
     "ename": "SyntaxError",
     "evalue": "invalid syntax (<ipython-input-40-5cae547ad992>, line 15)",
     "output_type": "error",
     "traceback": [
      "\u001b[0;36m  File \u001b[0;32m\"<ipython-input-40-5cae547ad992>\"\u001b[0;36m, line \u001b[0;32m15\u001b[0m\n\u001b[0;31m    else:\u001b[0m\n\u001b[0m       ^\u001b[0m\n\u001b[0;31mSyntaxError\u001b[0m\u001b[0;31m:\u001b[0m invalid syntax\n"
     ]
    }
   ],
   "source": [
    "def palin3(seq):\n",
    "    \"\"\"Returns a boolean confirming if a given sequence is a palindrome\n",
    "    str -> boolean\"\"\"\n",
    "    \n",
    "    base_compl = {'A': 'T', 'G': 'C', 'C': 'G', 'T': 'A'}\n",
    "\n",
    "    for base in range(len(seq)):\n",
    "        first = seq[base]\n",
    "        last = seq[-(base+1)]\n",
    "        last_compl = base_compl[last]\n",
    "\n",
    "        if first != last_compl:\n",
    "            break\n",
    "        output = \"The sequence is not palindromic\"\n",
    "        else:\n",
    "            if base == len(seq)/2:\n",
    "                break\n",
    "            output = \"The sequence is palindromic\"\n",
    "            else:\n",
    "                base = base +1\n",
    "        \n",
    "    return first, last, last_compl, base, output\n",
    "\n",
    "print(palin3('TACGTA'))"
   ]
  },
  {
   "cell_type": "code",
   "execution_count": null,
   "metadata": {},
   "outputs": [],
   "source": [
    "def even_or_odd(seq):\n",
    "    \n",
    "    even_odd = seq_length % 2\n",
    "    \n",
    "    if even_odd > 0:\n",
    "        output = \"This is an odd number\"\n",
    "        \n",
    "    else:\n",
    "        output = \"This is an even number\"\n",
    "        \n",
    "    \n",
    "    return output, rev"
   ]
  },
  {
   "cell_type": "code",
   "execution_count": 72,
   "metadata": {},
   "outputs": [
    {
     "name": "stdout",
     "output_type": "stream",
     "text": [
      "ATTTC\n"
     ]
    }
   ],
   "source": [
    "seq = 'ATTTC'\n",
    "\n",
    "seq2 = ''\n",
    "\n",
    "for base in range(len(seq)):  \n",
    "    first = seq[base]\n",
    "    seq2 += first\n",
    "print(seq2)"
   ]
  },
  {
   "cell_type": "markdown",
   "metadata": {},
   "source": [
    "### Translation 1\n",
    "frames.py  \n",
    "Set the sequence into a triplets list."
   ]
  },
  {
   "cell_type": "code",
   "execution_count": 115,
   "metadata": {},
   "outputs": [
    {
     "data": {
      "text/plain": [
       "['ATG', 'GCC', 'GGA']"
      ]
     },
     "execution_count": 115,
     "metadata": {},
     "output_type": "execute_result"
    }
   ],
   "source": [
    "def frames(pos,seq):\n",
    "    \"\"\"Reads the frame of a given sequence\n",
    "    str -> list\"\"\"\n",
    "    frame_list=[]\n",
    "    for i in range(pos-1, len(seq), 3):\n",
    "        if (len(seq[i:(i+3)])==3):\n",
    "            frame_list.append(seq[i:(i+3)])\n",
    "    return(frame_list)\n",
    "\n",
    "seq='ATGGCCGGA'\n",
    "seq_frames = frames(1,seq)\n",
    "seq_frames"
   ]
  },
  {
   "cell_type": "markdown",
   "metadata": {},
   "source": [
    "### Translation 2\n",
    "genetic_code.py"
   ]
  },
  {
   "cell_type": "code",
   "execution_count": 113,
   "metadata": {},
   "outputs": [
    {
     "data": {
      "text/plain": [
       "{'GAA': 'E',\n",
       " 'CGA': 'R',\n",
       " 'GUG': 'V',\n",
       " 'UAA': '/',\n",
       " 'CGU': 'R',\n",
       " 'AUA': 'I',\n",
       " 'GAC': 'D',\n",
       " 'UCG': 'S',\n",
       " 'GAU': 'D',\n",
       " 'AUG': 'M',\n",
       " 'CUG': 'L',\n",
       " 'CUA': 'L',\n",
       " 'UAC': 'Y',\n",
       " 'GGA': 'G',\n",
       " 'CGG': 'R',\n",
       " 'AGC': 'S',\n",
       " 'UCU': 'S',\n",
       " 'UGA': '/',\n",
       " 'AAA': 'K',\n",
       " 'ACC': 'T',\n",
       " 'ACA': 'T',\n",
       " 'UGC': 'C',\n",
       " 'AAG': 'K',\n",
       " 'GUC': 'V',\n",
       " 'UCC': 'S',\n",
       " 'ACU': 'T',\n",
       " 'AGA': 'R',\n",
       " 'CUU': 'L',\n",
       " 'GCC': 'A',\n",
       " 'GUA': 'V',\n",
       " 'UAG': '/',\n",
       " 'CAA': 'Q',\n",
       " 'CAC': 'H',\n",
       " 'GCU': 'A',\n",
       " 'UUA': 'L',\n",
       " 'CAU': 'H',\n",
       " 'CGC': 'R',\n",
       " 'UUC': 'F',\n",
       " 'AUU': 'I',\n",
       " 'GGC': 'G',\n",
       " 'CAG': 'Q',\n",
       " 'AAC': 'N',\n",
       " 'CCC': 'P',\n",
       " 'GUU': 'V',\n",
       " 'AGG': 'R',\n",
       " 'UGU': 'C',\n",
       " 'CCG': 'P',\n",
       " 'GGG': 'G',\n",
       " 'AUC': 'I',\n",
       " 'UUU': 'F',\n",
       " 'AAU': 'N',\n",
       " 'UCA': 'S',\n",
       " 'GAG': 'E',\n",
       " 'CCA': 'P',\n",
       " 'GCA': 'A',\n",
       " 'UAU': 'Y',\n",
       " 'GGU': 'G',\n",
       " 'UGG': 'W',\n",
       " 'GCG': 'A',\n",
       " 'CUC': 'L',\n",
       " 'UUG': 'L',\n",
       " 'CCU': 'P',\n",
       " 'ACG': 'T',\n",
       " 'AGU': 'S'}"
      ]
     },
     "execution_count": 113,
     "metadata": {},
     "output_type": "execute_result"
    }
   ],
   "source": [
    "def genetic_code(file):\n",
    "    gencode=open(file)\n",
    "    lines = gencode.read().splitlines()\n",
    "    genetic_code={}\n",
    "    for line in lines:\n",
    "        codon, aa = line.split()\n",
    "        genetic_code[codon] = aa\n",
    "    return genetic_code\n",
    "\n",
    "genetic_code('gencode.txt')"
   ]
  },
  {
   "cell_type": "markdown",
   "metadata": {},
   "source": [
    "### Genetic_code.py\n",
    "Convert from DNA/RNA to proteins\n",
    "Create a module (sequence.py ) that contains the functions which_seqtype (), dna_to_rna frames(), rna_to_prot (), read_gencode ().  \n",
    "Write a new script (genetic_code.py ) that imports the module sequence and does the following tasks.  \n",
    "- Takes a user typed sequence (optional: as arguments to the python script*\n",
    "- If it's DNA or RNA, convert it to the 3 possible protein reads\n",
    "- If it’s Protein, do nothing  \n",
    "\n",
    "Remember that a module is simply a file.py that contains functions."
   ]
  },
  {
   "cell_type": "code",
   "execution_count": null,
   "metadata": {},
   "outputs": [],
   "source": [
    "def genetic_code():\n",
    "    seq=input('Write your sequence: ')\n",
    "    if ('H' in seq) or ('P' in seq) or ('L' in seqe) or ('V' in seq) or ('I' in seq) or ('M' in seq) or ('F' in seq) or ('W' in seq) or ('S' in seq) or ('Y' in seq) or ('N' in seq) or ('Q' in seq) or ('D' in seq) or ('E' in seq) or ('K' in seq) or ('R' in seq):\n",
    "        print('The entered sequence is a protein.')\n",
    "    elif('U' in sequence):\n",
    "        for i in (1:3)\n",
    "            frames(1,seq)\n",
    "            \n",
    "            \n",
    "    else:\n",
    "        \n",
    "\n"
   ]
  },
  {
   "cell_type": "code",
   "execution_count": 125,
   "metadata": {},
   "outputs": [
    {
     "ename": "TypeError",
     "evalue": "'dict' object is not callable",
     "output_type": "error",
     "traceback": [
      "\u001b[1;31m---------------------------------------------------------------------------\u001b[0m",
      "\u001b[1;31mTypeError\u001b[0m                                 Traceback (most recent call last)",
      "\u001b[1;32m<ipython-input-125-f82f6ac50cbc>\u001b[0m in \u001b[0;36m<module>\u001b[1;34m\u001b[0m\n\u001b[0;32m      3\u001b[0m     \u001b[0mseq_frames\u001b[0m\u001b[1;33m=\u001b[0m\u001b[0mframes\u001b[0m\u001b[1;33m(\u001b[0m\u001b[1;36m1\u001b[0m\u001b[1;33m,\u001b[0m\u001b[0mseq\u001b[0m\u001b[1;33m)\u001b[0m\u001b[1;33m\u001b[0m\u001b[1;33m\u001b[0m\u001b[0m\n\u001b[0;32m      4\u001b[0m     \u001b[1;32mfor\u001b[0m \u001b[0mframe\u001b[0m \u001b[1;32min\u001b[0m \u001b[0mseq_frames\u001b[0m\u001b[1;33m:\u001b[0m\u001b[1;33m\u001b[0m\u001b[1;33m\u001b[0m\u001b[0m\n\u001b[1;32m----> 5\u001b[1;33m         \u001b[0mgen_code\u001b[0m \u001b[1;33m=\u001b[0m \u001b[0mgenetic_code\u001b[0m\u001b[1;33m(\u001b[0m\u001b[1;34m'gencode.txt'\u001b[0m\u001b[1;33m)\u001b[0m\u001b[1;33m\u001b[0m\u001b[1;33m\u001b[0m\u001b[0m\n\u001b[0m\u001b[0;32m      6\u001b[0m         \u001b[0mTransl_seq\u001b[0m \u001b[1;33m+=\u001b[0m \u001b[0mgen_code\u001b[0m\u001b[1;33m[\u001b[0m\u001b[0mframe\u001b[0m\u001b[1;33m]\u001b[0m\u001b[1;33m\u001b[0m\u001b[1;33m\u001b[0m\u001b[0m\n\u001b[0;32m      7\u001b[0m \u001b[1;33m\u001b[0m\u001b[0m\n",
      "\u001b[1;31mTypeError\u001b[0m: 'dict' object is not callable"
     ]
    }
   ],
   "source": [
    "seq='ATTTGCGCTA'\n",
    "for i in range(0,3,1):\n",
    "    seq_frames=frames(i,seq)\n",
    "    for frame in seq_frames:\n",
    "        gen_code = genetic_code('gencode.txt')\n",
    "        Transl_seq += gen_code[frame]\n",
    "\n"
   ]
  },
  {
   "cell_type": "code",
   "execution_count": 123,
   "metadata": {},
   "outputs": [
    {
     "ename": "TypeError",
     "evalue": "'dict' object is not callable",
     "output_type": "error",
     "traceback": [
      "\u001b[1;31m---------------------------------------------------------------------------\u001b[0m",
      "\u001b[1;31mTypeError\u001b[0m                                 Traceback (most recent call last)",
      "\u001b[1;32m<ipython-input-123-a97f3b4e2c9b>\u001b[0m in \u001b[0;36m<module>\u001b[1;34m\u001b[0m\n\u001b[0;32m      1\u001b[0m \u001b[0mseq_frames\u001b[0m\u001b[1;33m=\u001b[0m\u001b[0mframes\u001b[0m\u001b[1;33m(\u001b[0m\u001b[1;36m1\u001b[0m\u001b[1;33m,\u001b[0m\u001b[0mseq\u001b[0m\u001b[1;33m)\u001b[0m\u001b[1;33m\u001b[0m\u001b[1;33m\u001b[0m\u001b[0m\n\u001b[0;32m      2\u001b[0m \u001b[1;32mfor\u001b[0m \u001b[0mframe\u001b[0m \u001b[1;32min\u001b[0m \u001b[0mseq_frames\u001b[0m\u001b[1;33m:\u001b[0m\u001b[1;33m\u001b[0m\u001b[1;33m\u001b[0m\u001b[0m\n\u001b[1;32m----> 3\u001b[1;33m     \u001b[0mgen_code\u001b[0m \u001b[1;33m=\u001b[0m \u001b[0mgenetic_code\u001b[0m\u001b[1;33m(\u001b[0m\u001b[1;34m'gencode.txt'\u001b[0m\u001b[1;33m)\u001b[0m\u001b[1;33m\u001b[0m\u001b[1;33m\u001b[0m\u001b[0m\n\u001b[0m\u001b[0;32m      4\u001b[0m     \u001b[0mTransl_seq\u001b[0m \u001b[1;33m+=\u001b[0m \u001b[0mgen_code\u001b[0m\u001b[1;33m[\u001b[0m\u001b[0mframe\u001b[0m\u001b[1;33m]\u001b[0m\u001b[1;33m\u001b[0m\u001b[1;33m\u001b[0m\u001b[0m\n",
      "\u001b[1;31mTypeError\u001b[0m: 'dict' object is not callable"
     ]
    }
   ],
   "source": [
    "seq_frames=frames(1,seq)\n",
    "for frame in seq_frames:\n",
    "    gen_code = genetic_code('gencode.txt')\n",
    "    Transl_seq += gen_code[frame]"
   ]
  }
 ],
 "metadata": {
  "kernelspec": {
   "display_name": "Python 3",
   "language": "python",
   "name": "python3"
  },
  "language_info": {
   "codemirror_mode": {
    "name": "ipython",
    "version": 3
   },
   "file_extension": ".py",
   "mimetype": "text/x-python",
   "name": "python",
   "nbconvert_exporter": "python",
   "pygments_lexer": "ipython3",
   "version": "3.7.4"
  }
 },
 "nbformat": 4,
 "nbformat_minor": 2
}
