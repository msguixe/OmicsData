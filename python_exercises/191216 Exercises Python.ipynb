{
 "cells": [
  {
   "cell_type": "markdown",
   "metadata": {},
   "source": [
    "# count_matches.py\n",
    "\n",
    "·Given two sequences with the same length:\n",
    "·Count the number of matched bases at the same position.\n",
    "\n",
    "Print a string that has ‘*’ at the matched positions and spaces at the unmatched positions.\n",
    "Input:\n",
    "‘AAAAAAA', 'AGCTATAA‘\n",
    "Output:\n",
    "4 matches\n",
    "AAAAAAAA\n",
    "AGCTATAA\n",
    "* * **"
   ]
  },
  {
   "cell_type": "code",
   "execution_count": 1,
   "metadata": {},
   "outputs": [
    {
     "name": "stdout",
     "output_type": "stream",
     "text": [
      "AAAAAAAA\n",
      "AGCTATAA\n",
      "<zip object at 0x00000211D6344E48>\n"
     ]
    }
   ],
   "source": [
    "seq1 = 'AAAAAAAA'\n",
    "seq2 = 'AGCTATAA'\n",
    "print(seq1)\n",
    "print(seq2)\n",
    "seq_list = zip(seq1, seq2)\n",
    "print(seq_list)"
   ]
  },
  {
   "cell_type": "code",
   "execution_count": 2,
   "metadata": {},
   "outputs": [
    {
     "name": "stdout",
     "output_type": "stream",
     "text": [
      "AAAAAAAA\n",
      "AGCTATAA\n",
      "*   * **\n"
     ]
    }
   ],
   "source": [
    "seq_align = \"\"\n",
    "for base1, base2 in zip(seq1, seq2):\n",
    "    #print(base1, base2)\n",
    "    if base1==base2:\n",
    "        seq_align += \"*\"\n",
    "    else:\n",
    "        seq_align += \" \"\n",
    "print(seq1)\n",
    "print(seq2)\n",
    "print(seq_align)"
   ]
  },
  {
   "cell_type": "markdown",
   "metadata": {},
   "source": [
    "# count_repeated.py\n",
    "Given a sequence, count how many times there is repetition of the same base at two consecutive positions.\n",
    "Input:\n",
    "AACGTTCAA\n",
    "Output: 3"
   ]
  },
  {
   "cell_type": "code",
   "execution_count": 3,
   "metadata": {},
   "outputs": [
    {
     "name": "stdout",
     "output_type": "stream",
     "text": [
      "AACGTTCAA\n",
      "3\n"
     ]
    }
   ],
   "source": [
    "seq3 = 'AACGTTCAA'\n",
    "print(seq3)\n",
    "seq3[0]\n",
    "seq3[1]\n",
    "seq3[2]\n",
    "\n",
    "count=0\n",
    "for i, base in enumerate(seq3[:-1]):\n",
    "    #print(i, base)\n",
    "    if seq3[i] == seq3[i+1]:\n",
    "        #print('match')\n",
    "        count += 1\n",
    "        #print(count)\n",
    "print(count)"
   ]
  },
  {
   "cell_type": "markdown",
   "metadata": {},
   "source": [
    "# gc_content_cds.py\n",
    "The file 'brca1_cds.dna’ contains the coding sequence of BRCA1 (each line corresponds to a coding exon).\n",
    "We would like to get:\n",
    "- a list with the GC content of each of the exons\n",
    "- the exons with the minimum and maximum GC content.\n",
    "\n",
    "Main tasks: read a file, iterate the lines, compute GC content, update the accumulator.  \n",
    "The functions min() and max() that operate on lists, may be of help"
   ]
  },
  {
   "cell_type": "code",
   "execution_count": 97,
   "metadata": {},
   "outputs": [
    {
     "name": "stdout",
     "output_type": "stream",
     "text": [
      "Number of GC content per exon: [0.38, 0.43, 0.37, 0.38, 0.37, 0.46, 0.37, 0.42, 0.39, 0.49, 0.47, 0.4, 0.47, 0.48, 0.35, 0.4, 0.39, 0.46, 0.53, 0.49, 0.56, 0.58]\n",
      "Exon 15 has the minimum GC content with 0.35 %.\n",
      "Exon 22 has the maximum GC content with 0.58 %.\n"
     ]
    }
   ],
   "source": [
    "f = open('brca1_cds.dna')\n",
    "content = f.read()\n",
    "type(content)\n",
    "exons_list = content.split('\\n')\n",
    "#print(exons_list)\n",
    "exons_list = exons_list[0:22]\n",
    "\n",
    "all_gc_content = []\n",
    "\n",
    "for i in range(len(exons_list)):\n",
    "    counts_g = exons_list[i].count('g')\n",
    "    counts_c = exons_list[i].count('c')\n",
    "    gc_content =round((counts_g + counts_c)/len(exons_list[i]),2)\n",
    "    all_gc_content.append(gc_content)\n",
    "\n",
    "print('Number of GC content per exon:', all_gc_content)\n",
    "\n",
    "min_gc_content=min(all_gc_content)\n",
    "max_gc_content=max(all_gc_content)\n",
    "\n",
    "exon_min=all_gc_content.index(min_gc_content)+1\n",
    "exon_max=all_gc_content.index(max_gc_content)+1\n",
    "\n",
    "print('Exon', exon_min, 'has the minimum GC content with', min_gc_content, '%.')\n",
    "print('Exon', exon_max, 'has the maximum GC content with', max_gc_content, '%.')\n",
    "\n"
   ]
  },
  {
   "cell_type": "markdown",
   "metadata": {},
   "source": [
    "# join_cds.py\n",
    "\n",
    "Join the exons  \n",
    "\n",
    "The file 'brca1_cds.dna ’ contains the coding sequence of BRCA1 (each line corresponds to a coding exon). Can you\n",
    "reconstruct the whole CDS in a single string?  \n",
    "\n",
    "We would like to get a file as output with the joined CDS (in one line) in RNA alphabet and uppercase letters.\n",
    "Main tasks: read a file, iterate the lines, update the accumulator, write a file.  \n",
    "\n",
    "The str methods .replace(), .upper(), and strip() may be of help."
   ]
  },
  {
   "cell_type": "code",
   "execution_count": 96,
   "metadata": {},
   "outputs": [
    {
     "name": "stdout",
     "output_type": "stream",
     "text": [
      "AUGGAUUUAUCUGCUCUUCGCGUUGAAGAAGUACAAAAUGUCAUUAAUGCUAUGCAGAAAAUCUUAGAGUGUCCCAUCUGUCUGGAGUUGAUCAAGGAACCUGUCUCCACAAAGUGUGACCACAUAUUUUGCAAAUUUUGCAUGCUGAAACUUCUCAACCAGAAGAAAGGGCCUUCACAGUGUCCUUUAUGUAAGAAUGAUAUAACCAAAAGGAGCCUACAAGAAAGUACGAGAUUUAGUCAACUUGUUGAAGAGCUAUUGAAAAUCAUUUGUGCUUUUCAGCUUGACACAGGUUUGGAGUAUGCAAACAGCUAUAAUUUUGCAAAAAAGGAAAAUAACUCUCCUGAACAUCUAAAAGAUGAAGUUUCUAUCAUCCAAAGUAUGGGCUACAGAAACCGUGCCAAAAGACUUCUACAGAGUGAACCCGAAAAUCCUUCCUUGCAGGAAACCAGUCUCAGUGUCCAACUCUCUAACCUUGGAACUGUGAGAACUCUGAGGACAAAGCAGCGGAUACAACCUCAAAAGACGUCUGUCUACAUUGAAUUGGGAUCUGAUUCUUCUGAAGAUACCGUUAAUAAGGCAACUUAUUGCAGUGUGGGAGAUCAAGAAUUGUUACAAAUCACCCCUCAAGGAACCAGGGAUGAAAUCAGUUUGGAUUCUGCAAAAAAGGCUGCUUGUGAAUUUUCUGAGACGGAUGUAACAAAUACUGAACAUCAUCAACCCAGUAAUAAUGAUUUGAACACCACUGAGAAGCGUGCAGCUGAGAGGCAUCCAGAAAAGUAUCAGGGUAGUUCUGUUUCAAACUUGCAUGUGGAGCCAUGUGGCACAAAUACUCAUGCCAGCUCAUUACAGCAUGAGAACAGCAGUUUAUUACUCACUAAAGACAGAAUGAAUGUAGAAAAGGCUGAAUUCUGUAAUAAAAGCAAACAGCCUGGCUUAGCAAGGAGCCAACAUAACAGAUGGGCUGGAAGUAAGGAAACAUGUAAUGAUAGGCGGACUCCCAGCACAGAAAAAAAGGUAGAUCUGAAUGCUGAUCCCCUGUGUGAGAGAAAAGAAUGGAAUAAGCAGAAACUGCCAUGCUCAGAGAAUCCUAGAGAUACUGAAGAUGUUCCUUGGAUAACACUAAAUAGCAGCAUUCAGAAAGUUAAUGAGUGGUUUUCCAGAAGUGAUGAACUGUUAGGUUCUGAUGACUCACAUGAUGGGGAGUCUGAAUCAAAUGCCAAAGUAGCUGAUGUAUUGGACGUUCUAAAUGAGGUAGAUGAAUAUUCUGGUUCUUCAGAGAAAAUAGACUUACUGGCCAGUGAUCCUCAUGAGGCUUUAAUAUGUAAAAGUGAAAGAGUUCACUCCAAAUCAGUAGAGAGUAAUAUUGAAGACAAAAUAUUUGGGAAAACCUAUCGGAAGAAGGCAAGCCUCCCCAACUUAAGCCAUGUAACUGAAAAUCUAAUUAUAGGAGCAUUUGUUACUGAGCCACAGAUAAUACAAGAGCGUCCCCUCACAAAUAAAUUAAAGCGUAAAAGGAGACCUACAUCAGGCCUUCAUCCUGAGGAUUUUAUCAAGAAAGCAGAUUUGGCAGUUCAAAAGACUCCUGAAAUGAUAAAUCAGGGAACUAACCAAACGGAGCAGAAUGGUCAAGUGAUGAAUAUUACUAAUAGUGGUCAUGAGAAUAAAACAAAAGGUGAUUCUAUUCAGAAUGAGAAAAAUCCUAACCCAAUAGAAUCACUCGAAAAAGAAUCUGCUUUCAAAACGAAAGCUGAACCUAUAAGCAGCAGUAUAAGCAAUAUGGAACUCGAAUUAAAUAUCCACAAUUCAAAAGCACCUAAAAAGAAUAGGCUGAGGAGGAAGUCUUCUACCAGGCAUAUUCAUGCGCUUGAACUAGUAGUCAGUAGAAAUCUAAGCCCACCUAAUUGUACUGAAUUGCAAAUUGAUAGUUGUUCUAGCAGUGAAGAGAUAAAGAAAAAAAAGUACAACCAAAUGCCAGUCAGGCACAGCAGAAACCUACAACUCAUGGAAGGUAAAGAACCUGCAACUGGAGCCAAGAAGAGUAACAAGCCAAAUGAACAGACAAGUAAAAGACAUGACAGCGAUACUUUCCCAGAGCUGAAGUUAACAAAUGCACCUGGUUCUUUUACUAAGUGUUCAAAUACCAGUGAACUUAAAGAAUUUGUCAAUCCUAGCCUUCCAAGAGAAGAAAAAGAAGAGAAACUAGAAACAGUUAAAGUGUCUAAUAAUGCUGAAGACCCCAAAGAUCUCAUGUUAAGUGGAGAAAGGGUUUUGCAAACUGAAAGAUCUGUAGAGAGUAGCAGUAUUUCAUUGGUACCUGGUACUGAUUAUGGCACUCAGGAAAGUAUCUCGUUACUGGAAGUUAGCACUCUAGGGAAGGCAAAAACAGAACCAAAUAAAUGUGUGAGUCAGUGUGCAGCAUUUGAAAACCCCAAGGGACUAAUUCAUGGUUGUUCCAAAGAUAAUAGAAAUGACACAGAAGGCUUUAAGUAUCCAUUGGGACAUGAAGUUAACCACAGUCGGGAAACAAGCAUAGAAAUGGAAGAAAGUGAACUUGAUGCUCAGUAUUUGCAGAAUACAUUCAAGGUUUCAAAGCGCCAGUCAUUUGCUCCGUUUUCAAAUCCAGGAAAUGCAGAAGAGGAAUGUGCAACAUUCUCUGCCCACUCUGGGUCCUUAAAGAAACAAAGUCCAAAAGUCACUUUUGAAUGUGAACAAAAGGAAGAAAAUCAAGGAAAGAAUGAGUCUAAUAUCAAGCCUGUACAGACAGUUAAUAUCACUGCAGGCUUUCCUGUGGUUGGUCAGAAAGAUAAGCCAGUUGAUAAUGCCAAAUGUAGUAUCAAAGGAGGCUCUAGGUUUUGUCUAUCAUCUCAGUUCAGAGGCAACGAAACUGGACUCAUUACUCCAAAUAAACAUGGACUUUUACAAAACCCAUAUCGUAUACCACCACUUUUUCCCAUCAAGUCAUUUGUUAAAACUAAAUGUAAGAAAAAUCUGCUAGAGGAAAACUUUGAGGAACAUUCAAUGUCACCUGAAAGAGAAAUGGGAAAUGAGAACAUUCCAAGUACAGUGAGCACAAUUAGCCGUAAUAACAUUAGAGAAAAUGUUUUUAAAGAAGCCAGCUCAAGCAAUAUUAAUGAAGUAGGUUCCAGUACUAAUGAAGUGGGCUCCAGUAUUAAUGAAAUAGGUUCCAGUGAUGAAAACAUUCAAGCAGAACUAGGUAGAAACAGAGGGCCAAAAUUGAAUGCUAUGCUUAGAUUAGGGGUUUUGCAACCUGAGGUCUAUAAACAAAGUCUUCCUGGAAGUAAUUGUAAGCAUCCUGAAAUAAAAAAGCAAGAAUAUGAAGAAGUAGUUCAGACUGUUAAUACAGAUUUCUCUCCAUAUCUGAUUUCAGAUAACUUAGAACAGCCUAUGGGAAGUAGUCAUGCAUCUCAGGUUUGUUCUGAGACACCUGAUGACCUGUUAGAUGAUGGUGAAAUAAAGGAAGAUACUAGUUUUGCUGAAAAUGACAUUAAGGAAAGUUCUGCUGUUUUUAGCAAAAGCGUCCAGAAAGGAGAGCUUAGCAGGAGUCCUAGCCCUUUCACCCAUACACAUUUGGCUCAGGGUUACCGAAGAGGGGCCAAGAAAUUAGAGUCCUCAGAAGAGAACUUAUCUAGUGAGGAUGAAGAGCUUCCCUGCUUCCAACACUUGUUAUUUGGUAAAGUAAACAAUAUACCUUCUCAGUCUACUAGGCAUAGCACCGUUGCUACCGAGUGUCUGUCUAAGAACACAGAGGAGAAUUUAUUAUCAUUGAAGAAUAGCUUAAAUGACUGCAGUAACCAGGUAAUAUUGGCAAAGGCAUCUCAGGAACAUCACCUUAGUGAGGAAACAAAAUGUUCUGCUAGCUUGUUUUCUUCACAGUGCAGUGAAUUGGAAGACUUGACUGCAAAUACAAACACCCAGGAUCCUUUCUUGAUUGGUUCUUCCAAACAAAUGAGGCAUCAGUCUGAAAGCCAGGGAGUUGGUCUGAGUGACAAGGAAUUGGUUUCAGAUGAUGAAGAAAGAGGAACGGGCUUGGAAGAAAAUAAUCAAGAAGAGCAAAGCAUGGAUUCAAACUUAGGUGAAGCAGCAUCUGGGUGUGAGAGUGAAACAAGCGUCUCUGAAGACUGCUCAGGGCUAUCCUCUCAGAGUGACAUUUUAACCACUCAGCAGAGGGAUACCAUGCAACAUAACCUGAUAAAGCUCCAGCAGGAAAUGGCUGAACUAGAAGCUGUGUUAGAACAGCAUGGGAGCCAGCCUUCUAACAGCUACCCUUCCAUCAUAAGUGACUCUUCUGCCCUUGAGGACCUGCGAAAUCCAGAACAAAGCACAUCAGAAAAAGCAGUAUUAACUUCACAGAAAAGUAGUGAAUACCCUAUAAGCCAGAAUCCAGAAGGCCUUUCUGCUGACAAGUUUGAGGUGUCUGCAGAUAGUUCUACCAGUAAAAAUAAAGAACCAGGAGUGGAAAGGUCAUCCCCUUCUAAAUGCCCAUCAUUAGAUGAUAGGUGGUACAUGCACAGUUGCUCUGGGAGUCUUCAGAAUAGAAACUACCCAUCUCAAGAGGAGCUCAUUAAGGUUGUUGAUGUGGAGGAGCAACAGCUGGAAGAGUCUGGGCCACACGAUUUGACGGAAACAUCUUACUUGCCAAGGCAAGAUCUAGAGGGAACCCCUUACCUGGAAUCUGGAAUCAGCCUCUUCUCUGAUGACCCUGAAUCUGAUCCUUCUGAAGACAGAGCCCCAGAGUCAGCUCGUGUUGGCAACAUACCAUCUUCAACCUCUGCAUUGAAAGUUCCCCAAUUGAAAGUUGCAGAAUCUGCCCAGAGUCCAGCUGCUGCUCAUACUACUGAUACUGCUGGGUAUAAUGCAAUGGAAGAAAGUGUGAGCAGGGAGAAGCCAGAAUUGACAGCUUCAACAGAAAGGGUCAACAAAAGAAUGUCCAUGGUGGUGUCUGGCCUGACCCCAGAAGAAUUUAUGCUCGUGUACAAGUUUGCCAGAAAACACCACAUCACUUUAACUAAUCUAAUUACUGAAGAGACUACUCAUGUUGUUAUGAAAACAGAUGCUGAGUUUGUGUGUGAACGGACACUGAAAUAUUUUCUAGGAAUUGCGGGAGGAAAAUGGGUAGUUAGCUAUUUCUGGGUGACCCAGUCUAUUAAAGAAAGAAAAAUGCUGAAUGAGCAUGAUUUUGAAGUCAGAGGAGAUGUGGUCAAUGGAAGAAACCACCAAGGUCCAAAGCGAGCAAGAGAAUCCCAGGACAGAAAGAUCUUCAGGGGGCUAGAAAUCUGUUGCUAUGGGCCCUUCACCAACAUGCCCACAGAUCAACUGGAAUGGAUGGUACAGCUGUGUGGUGCUUCUGUGGUGAAGGAGCUUUCAUCAUUCACCCUUGGCACAGGUGUCCACCCAAUUGUGGUUGUGCAGCCAGAUGCCUGGACAGAGGACAAUGGCUUCCAUGCAAUUGGGCAGAUGUGUGAGGCACCUGUGGUGACCCGAGAGUGGGUGUUGGACAGUGUAGCACUCUACCAGUGCCAGGAGCUGGACACCUACCUGAUACCCCAGAUCCCCCACAGCCACUACUGA\n"
     ]
    }
   ],
   "source": [
    "f = open('brca1_cds.dna')\n",
    "content = f.read()\n",
    "type(content)\n",
    "exons_list = content.split('\\n')\n",
    "exons_list = exons_list[0:22]\n",
    "\n",
    "brca1_cds = ''\n",
    "for i in exons_list:\n",
    "    brca1_cds += i\n",
    "\n",
    "#print(brca1_cds)\n",
    "brca1_rna = brca1_cds.replace('t', 'u')\n",
    "#print(brca1_rna)\n",
    "BRCA1_RNA = brca1_rna.upper()\n",
    "print(BRCA1_RNA)\n",
    "\n",
    "f=open('BRCA1_RNA.txt', 'w')\n",
    "f.write(BRCA1_RNA)\n",
    "f.close()\n"
   ]
  },
  {
   "cell_type": "markdown",
   "metadata": {},
   "source": [
    "# dna_rna_protein.py\n",
    "Detect DNA, RNA or protein  \n",
    "\n",
    "Think of a possible algorithm to detect the type of sequence that the user enters (expect only DNA, RNA or protein). Write it!\n",
    "The code should show a message with the text \"DNA\" or \"RNA\", or \"Protein\", accordingly.  \n",
    "\n",
    "- ACTGTGTAA &rarr; DNA  \n",
    "\n",
    "- ACUGCUAG &rarr; RNA  \n",
    "\n",
    "- AHPLCTGA &rarr; protein  \n",
    "\n",
    "To request input to the user use the input() function with something like sequence = input(‘Write your sequence: ‘)"
   ]
  },
  {
   "cell_type": "code",
   "execution_count": 94,
   "metadata": {},
   "outputs": [
    {
     "name": "stdout",
     "output_type": "stream",
     "text": [
      "Write your sequence: ACTGTGTAA\n",
      "DNA\n"
     ]
    }
   ],
   "source": [
    "sequence = input('Write your sequence: ')\n",
    "if ('H' in sequence) or ('P' in sequence) or ('L' in sequence) or ('V' in sequence) or ('I' in sequence) or ('M' in sequence) or ('F' in sequence) or ('W' in sequence) or ('S' in sequence) or ('Y' in sequence) or ('N' in sequence) or ('Q' in sequence) or ('D' in sequence) or ('E' in sequence) or ('K' in sequence) or ('R' in sequence):\n",
    "    print('protein')\n",
    "elif('U' in sequence):\n",
    "    print('RNA')\n",
    "else:\n",
    "    print('DNA')"
   ]
  },
  {
   "cell_type": "markdown",
   "metadata": {},
   "source": [
    "# dipeptides.py  \n",
    "\n",
    "Print all possible dipeptides.  \n",
    "\n",
    "Write a code that, given a string with residues, generates a list (an prints it) with all possible dipeptides that can be constructed combining the residues in the string. Repetition is possible.  \n",
    "\n",
    "Input: \n",
    "'AYS'  \n",
    "Output:  \n",
    "AA  \n",
    "AY  \n",
    "AS  \n",
    "YA  \n",
    "YY  \n",
    "YS  \n",
    "SA  \n",
    "SY  \n",
    "SS  \n"
   ]
  },
  {
   "cell_type": "code",
   "execution_count": 46,
   "metadata": {},
   "outputs": [
    {
     "name": "stdout",
     "output_type": "stream",
     "text": [
      "Write your sequence: AYS\n",
      "['AA', 'AY', 'AS', 'YA', 'YY', 'YS', 'SA', 'SY', 'SS']\n"
     ]
    }
   ],
   "source": [
    "sequence = input('Write your sequence: ')\n",
    "\n",
    "dipeptides = []\n",
    "\n",
    "for unit in sequence:\n",
    "    for unit2 in sequence:\n",
    "        dipeptide = unit+unit2\n",
    "        dipeptides.append(dipeptide)\n",
    "print(dipeptides)\n",
    "    \n"
   ]
  }
 ],
 "metadata": {
  "kernelspec": {
   "display_name": "Python 3",
   "language": "python",
   "name": "python3"
  },
  "language_info": {
   "codemirror_mode": {
    "name": "ipython",
    "version": 3
   },
   "file_extension": ".py",
   "mimetype": "text/x-python",
   "name": "python",
   "nbconvert_exporter": "python",
   "pygments_lexer": "ipython3",
   "version": "3.7.4"
  }
 },
 "nbformat": 4,
 "nbformat_minor": 2
}
