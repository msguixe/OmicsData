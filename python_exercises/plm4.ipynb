{
 "cells": [
  {
   "cell_type": "markdown",
   "metadata": {},
   "source": [
    "# PLM4 - Lists, advanced loops, reading files"
   ]
  },
  {
   "cell_type": "markdown",
   "metadata": {},
   "source": [
    "## A collection of DNA strings"
   ]
  },
  {
   "cell_type": "markdown",
   "metadata": {},
   "source": [
    "We can store sequences in a string"
   ]
  },
  {
   "cell_type": "code",
   "execution_count": 10,
   "metadata": {},
   "outputs": [
    {
     "name": "stdout",
     "output_type": "stream",
     "text": [
      "CAGCTATCG,ACTATTAGGAT,GCTGATCCTATCA\n"
     ]
    }
   ],
   "source": [
    "dna_str = 'CAGCTATCG,ACTATTAGGAT,GCTGATCCTATCA'\n",
    "print(dna_str)"
   ]
  },
  {
   "cell_type": "markdown",
   "metadata": {},
   "source": [
    "But a list is a much better option. We can get a list using the methods **.split()** from a string if there is a separator character."
   ]
  },
  {
   "cell_type": "code",
   "execution_count": 11,
   "metadata": {},
   "outputs": [
    {
     "data": {
      "text/plain": [
       "['CAGCTATCG', 'ACTATTAGGAT', 'GCTGATCCTATCA']"
      ]
     },
     "execution_count": 11,
     "metadata": {},
     "output_type": "execute_result"
    }
   ],
   "source": [
    "dna_str.split(',')"
   ]
  },
  {
   "cell_type": "code",
   "execution_count": 12,
   "metadata": {},
   "outputs": [
    {
     "name": "stdout",
     "output_type": "stream",
     "text": [
      "['CAGCTATCG', 'ACTATTAGGAT', 'GCTGATCCTATCA']\n",
      "<class 'list'>\n"
     ]
    }
   ],
   "source": [
    "dnas = dna_str.split(',')\n",
    "print(dnas)\n",
    "print(type(dnas))"
   ]
  },
  {
   "cell_type": "markdown",
   "metadata": {},
   "source": [
    "Another way to get a list from a string is with the **list()** function. In this case the lists has as elments the characters of the string."
   ]
  },
  {
   "cell_type": "code",
   "execution_count": 13,
   "metadata": {},
   "outputs": [
    {
     "name": "stdout",
     "output_type": "stream",
     "text": [
      "['A', 'C', 'G', 'T', 'G', 'T', 'A', 'T', 'G', 'C', 'G', 'A', 'T', 'C', 'T', 'A']\n"
     ]
    }
   ],
   "source": [
    "bases = list('ACGTGTATGCGATCTA')\n",
    "print(bases)"
   ]
  },
  {
   "cell_type": "markdown",
   "metadata": {},
   "source": [
    "Or we can initialize the list ourselves"
   ]
  },
  {
   "cell_type": "code",
   "execution_count": 15,
   "metadata": {},
   "outputs": [
    {
     "name": "stdout",
     "output_type": "stream",
     "text": [
      "[]\n",
      "['ATG', 'AATG', 'CGGT', 'ATAATG']\n"
     ]
    }
   ],
   "source": [
    "dnas = []  # an empty list\n",
    "print(dnas)\n",
    "dnas = ['ATG', 'AATG', 'CGGT', 'ATAATG']\n",
    "print(dnas)"
   ]
  },
  {
   "cell_type": "markdown",
   "metadata": {},
   "source": [
    "Remember membership operators"
   ]
  },
  {
   "cell_type": "code",
   "execution_count": 16,
   "metadata": {},
   "outputs": [
    {
     "name": "stdout",
     "output_type": "stream",
     "text": [
      "True\n",
      "False\n",
      "False\n",
      "True\n"
     ]
    }
   ],
   "source": [
    "print('ATG' in dnas)\n",
    "print('ATG' not in dnas)\n",
    "print('GGT' in dnas)\n",
    "print('GGT' in dnas[2])"
   ]
  },
  {
   "cell_type": "markdown",
   "metadata": {},
   "source": [
    "Remember that lists (also strings) can be *indexed* and *sliced*"
   ]
  },
  {
   "cell_type": "code",
   "execution_count": 17,
   "metadata": {},
   "outputs": [
    {
     "name": "stdout",
     "output_type": "stream",
     "text": [
      "AATG\n",
      "ATAATG\n",
      "['AATG']\n",
      "['ATG', 'AATG', 'CGGT']\n"
     ]
    }
   ],
   "source": [
    "print(dnas[1])\n",
    "print(dnas[-1])\n",
    "print(dnas[1:2])\n",
    "print(dnas[0:-1])"
   ]
  },
  {
   "cell_type": "markdown",
   "metadata": {},
   "source": [
    "But **lists** are **mutable** objects. This means that we can change the elements"
   ]
  },
  {
   "cell_type": "code",
   "execution_count": 19,
   "metadata": {},
   "outputs": [
    {
     "name": "stdout",
     "output_type": "stream",
     "text": [
      "['ATG', 'AATG', 'CGGT', 'GTCGTATATA']\n"
     ]
    }
   ],
   "source": [
    "dnas[3] = 'GTCGTATATA' #we can't replace only 1 character of an object in a list, but we can replace the object\n",
    "print(dnas)"
   ]
  },
  {
   "cell_type": "code",
   "execution_count": 20,
   "metadata": {},
   "outputs": [
    {
     "name": "stdout",
     "output_type": "stream",
     "text": [
      "['ATG', 'AA', 'GC', 'GTCGTATATA']\n"
     ]
    }
   ],
   "source": [
    "dnas[1:3] = ['AA', 'GC'] #we replace the first and the second element, not the third!\n",
    "print(dnas)"
   ]
  },
  {
   "cell_type": "markdown",
   "metadata": {},
   "source": [
    "We use the *.append()* methods of **lists** to add one element"
   ]
  },
  {
   "cell_type": "code",
   "execution_count": 23,
   "metadata": {},
   "outputs": [
    {
     "name": "stdout",
     "output_type": "stream",
     "text": [
      "['ATG', 'GC', 'GTCGTATATA', 'GATTCTA', 'GATTCTA']\n",
      "None\n"
     ]
    }
   ],
   "source": [
    "aaa = dnas.append('GATTCTA') #to add an extra object to the list\n",
    "print(dnas)\n",
    "print(aaa) #The function append does not retorn an object! Only applies to the original variable"
   ]
  },
  {
   "cell_type": "markdown",
   "metadata": {},
   "source": [
    "The *del* keyword to delete one elment with a known index"
   ]
  },
  {
   "cell_type": "code",
   "execution_count": 24,
   "metadata": {},
   "outputs": [
    {
     "name": "stdout",
     "output_type": "stream",
     "text": [
      "['ATG', 'GTCGTATATA', 'GATTCTA', 'GATTCTA']\n"
     ]
    }
   ],
   "source": [
    "del dnas[1] #to delete the element 1 (the second) in the list\n",
    "print(dnas)"
   ]
  },
  {
   "cell_type": "markdown",
   "metadata": {},
   "source": [
    "Alternatively we can remove an element using the actual element"
   ]
  },
  {
   "cell_type": "code",
   "execution_count": 25,
   "metadata": {},
   "outputs": [
    {
     "ename": "ValueError",
     "evalue": "list.remove(x): x not in list",
     "output_type": "error",
     "traceback": [
      "\u001b[1;31m---------------------------------------------------------------------------\u001b[0m",
      "\u001b[1;31mValueError\u001b[0m                                Traceback (most recent call last)",
      "\u001b[1;32m<ipython-input-25-4e7b690967ea>\u001b[0m in \u001b[0;36m<module>\u001b[1;34m\u001b[0m\n\u001b[1;32m----> 1\u001b[1;33m \u001b[0mdnas\u001b[0m\u001b[1;33m.\u001b[0m\u001b[0mremove\u001b[0m\u001b[1;33m(\u001b[0m\u001b[1;34m'GC'\u001b[0m\u001b[1;33m)\u001b[0m\u001b[1;33m\u001b[0m\u001b[1;33m\u001b[0m\u001b[0m\n\u001b[0m\u001b[0;32m      2\u001b[0m \u001b[0mprint\u001b[0m\u001b[1;33m(\u001b[0m\u001b[0mdnas\u001b[0m\u001b[1;33m)\u001b[0m\u001b[1;33m\u001b[0m\u001b[1;33m\u001b[0m\u001b[0m\n",
      "\u001b[1;31mValueError\u001b[0m: list.remove(x): x not in list"
     ]
    }
   ],
   "source": [
    "dnas.remove('GC')\n",
    "print(dnas)"
   ]
  },
  {
   "cell_type": "markdown",
   "metadata": {},
   "source": [
    "If we need to know the index of an elements we have the *index* method"
   ]
  },
  {
   "cell_type": "code",
   "execution_count": 26,
   "metadata": {},
   "outputs": [
    {
     "data": {
      "text/plain": [
       "2"
      ]
     },
     "execution_count": 26,
     "metadata": {},
     "output_type": "execute_result"
    }
   ],
   "source": [
    "dnas.index('GATTCTA')"
   ]
  },
  {
   "cell_type": "markdown",
   "metadata": {},
   "source": [
    "The *.sort()* method orders the list"
   ]
  },
  {
   "cell_type": "code",
   "execution_count": 27,
   "metadata": {},
   "outputs": [
    {
     "name": "stdout",
     "output_type": "stream",
     "text": [
      "['ATG', 'GATTCTA', 'GATTCTA', 'GTCGTATATA']\n"
     ]
    }
   ],
   "source": [
    "dnas.sort() #to sort alphabetically. As well, does not return anything, only applies to the original variable\n",
    "print(dnas)"
   ]
  },
  {
   "cell_type": "markdown",
   "metadata": {},
   "source": [
    "Or if we need the list in the opposite order we can use *.reverse()*"
   ]
  },
  {
   "cell_type": "code",
   "execution_count": 28,
   "metadata": {},
   "outputs": [
    {
     "name": "stdout",
     "output_type": "stream",
     "text": [
      "['GTCGTATATA', 'GATTCTA', 'GATTCTA', 'ATG']\n"
     ]
    }
   ],
   "source": [
    "dnas.reverse() #to invert the order\n",
    "print(dnas)"
   ]
  },
  {
   "cell_type": "markdown",
   "metadata": {},
   "source": [
    "Whenever we need to convert back to an *str* we can use the **.join()** method. But notice that *join* is not a *list* method, but an *str* method"
   ]
  },
  {
   "cell_type": "code",
   "execution_count": 29,
   "metadata": {},
   "outputs": [
    {
     "data": {
      "text/plain": [
       "'GTCGTATATA-GATTCTA-GATTCTA-ATG'"
      ]
     },
     "execution_count": 29,
     "metadata": {},
     "output_type": "execute_result"
    }
   ],
   "source": [
    "'-'.join(dnas) #we join the elements of the list with the object we specify, in this case, a dash (\"-\")"
   ]
  },
  {
   "cell_type": "code",
   "execution_count": 30,
   "metadata": {},
   "outputs": [
    {
     "name": "stdout",
     "output_type": "stream",
     "text": [
      "GTCGTATATAGATTCTAGATTCTAATG\n"
     ]
    }
   ],
   "source": [
    "long_seq = ''.join(dnas) #we join all the elements with an empty space, we create the whole sequence.\n",
    "print(long_seq)"
   ]
  },
  {
   "cell_type": "markdown",
   "metadata": {},
   "source": [
    "## Accumulators"
   ]
  },
  {
   "cell_type": "markdown",
   "metadata": {},
   "source": [
    "In th previous session we used the previous code snippet:"
   ]
  },
  {
   "cell_type": "code",
   "execution_count": 31,
   "metadata": {},
   "outputs": [
    {
     "name": "stdout",
     "output_type": "stream",
     "text": [
      "['GTCGTATATA', 'GATTCTA', 'GATTCTA', 'ATG']\n",
      "number of A: 8\n"
     ]
    }
   ],
   "source": [
    "print(dnas)\n",
    "counts = 0\n",
    "for dna in dnas:\n",
    "    counts += dna.count('A')\n",
    "print('number of A:', counts)"
   ]
  },
  {
   "cell_type": "markdown",
   "metadata": {},
   "source": [
    "In the code above, the *variable* **count** is a special one. Its called and **accumulator**. An accumulator is nothing more than a regular variable that is used to store information along the interations of a loop. An accumulator does not necessary need to be ain *integer*. It can be aa veriable of any type. For instance a *string*"
   ]
  },
  {
   "cell_type": "code",
   "execution_count": 32,
   "metadata": {},
   "outputs": [
    {
     "name": "stdout",
     "output_type": "stream",
     "text": [
      "['GTCGTATATA', 'GATTCTA', 'GATTCTA', 'ATG']\n",
      "GTCGTATATAGATTCTAGATTCTAATG\n"
     ]
    }
   ],
   "source": [
    "print(dnas)\n",
    "concat_dna = ''\n",
    "for dna in dnas:\n",
    "    concat_dna += dna\n",
    "print(concat_dna)"
   ]
  },
  {
   "cell_type": "markdown",
   "metadata": {},
   "source": [
    "Or a *list* of booleans:"
   ]
  },
  {
   "cell_type": "code",
   "execution_count": 33,
   "metadata": {},
   "outputs": [
    {
     "name": "stdout",
     "output_type": "stream",
     "text": [
      "[True, True, True, False]\n"
     ]
    }
   ],
   "source": [
    "contains_TA = []\n",
    "for dna in dnas:\n",
    "    if 'TA' in dna:\n",
    "        contains_TA.append(True)\n",
    "    else:\n",
    "        contains_TA.append(False)\n",
    "print(contains_TA)"
   ]
  },
  {
   "cell_type": "markdown",
   "metadata": {},
   "source": [
    "By the way... we can use the **sum** function to add *booleans* as if they were 0s and 1s"
   ]
  },
  {
   "cell_type": "code",
   "execution_count": 34,
   "metadata": {},
   "outputs": [
    {
     "data": {
      "text/plain": [
       "3"
      ]
     },
     "execution_count": 34,
     "metadata": {},
     "output_type": "execute_result"
    }
   ],
   "source": [
    "sum(contains_TA)"
   ]
  },
  {
   "cell_type": "markdown",
   "metadata": {},
   "source": [
    "Or a list of *strings*:"
   ]
  },
  {
   "cell_type": "code",
   "execution_count": 35,
   "metadata": {},
   "outputs": [
    {
     "name": "stdout",
     "output_type": "stream",
     "text": [
      "['GTCGTATATA', 'GATTCTA', 'GATTCTA']\n"
     ]
    }
   ],
   "source": [
    "seqs_with_TA = []\n",
    "for dna in dnas:\n",
    "    if 'TA' in dna:\n",
    "        seqs_with_TA.append(dna)\n",
    "print(seqs_with_TA)"
   ]
  },
  {
   "cell_type": "markdown",
   "metadata": {},
   "source": [
    "In this particular case, though we would prefer using the expresion below. This is called a **list comprehension** and is a concise way to create a list"
   ]
  },
  {
   "cell_type": "code",
   "execution_count": 37,
   "metadata": {},
   "outputs": [
    {
     "name": "stdout",
     "output_type": "stream",
     "text": [
      "['GTCGTATATA', 'GATTCTA', 'GATTCTA']\n"
     ]
    }
   ],
   "source": [
    "seq_with_TA = [dna \n",
    "               for dna in dnas\n",
    "               if 'TA' in dna]\n",
    "print(seq_with_TA) #This is another way of performing the previous sequence (with TAs) but shorter method."
   ]
  },
  {
   "cell_type": "markdown",
   "metadata": {},
   "source": [
    "## Advanced for loops"
   ]
  },
  {
   "cell_type": "markdown",
   "metadata": {},
   "source": [
    "In Python, the most common way to loop over **a single list** is this one:"
   ]
  },
  {
   "cell_type": "code",
   "execution_count": 39,
   "metadata": {},
   "outputs": [
    {
     "name": "stdout",
     "output_type": "stream",
     "text": [
      "['GTCGTATATA', 'GATTCTA', 'GATTCTA', 'ATG']\n",
      "GTCGTATATA\n",
      "GATTCTA\n",
      "GATTCTA\n",
      "ATG\n"
     ]
    }
   ],
   "source": [
    "print(dnas)\n",
    "for dna in dnas:\n",
    "    print(dna)"
   ]
  },
  {
   "cell_type": "markdown",
   "metadata": {},
   "source": [
    "When we need to loop over **multiple lists** at the same time the function *zip()* comes handy"
   ]
  },
  {
   "cell_type": "code",
   "execution_count": 40,
   "metadata": {},
   "outputs": [
    {
     "name": "stdout",
     "output_type": "stream",
     "text": [
      "['ACTGA', 'AGTTATAT', 'TTT']\n"
     ]
    },
    {
     "data": {
      "text/plain": [
       "<zip at 0x23dd24edf88>"
      ]
     },
     "execution_count": 40,
     "metadata": {},
     "output_type": "execute_result"
    }
   ],
   "source": [
    "dnas2 = ['ACTGA', 'AGTTATAT', 'TTT']\n",
    "print(dnas2)\n",
    "zip(dnas, dnas2) #we cannot see a zip object, but we can convert it into a list"
   ]
  },
  {
   "cell_type": "markdown",
   "metadata": {},
   "source": [
    "The *zip()* function returns an **iterator** which an object type that allows iteration (such as a list). We can convert an **iterator** to a **list** to understand what's in the output of *zip*."
   ]
  },
  {
   "cell_type": "code",
   "execution_count": 41,
   "metadata": {},
   "outputs": [
    {
     "data": {
      "text/plain": [
       "[('GTCGTATATA', 'ACTGA'), ('GATTCTA', 'AGTTATAT'), ('GATTCTA', 'TTT')]"
      ]
     },
     "execution_count": 41,
     "metadata": {},
     "output_type": "execute_result"
    }
   ],
   "source": [
    "list(zip(dnas, dnas2)) #Now we have convert it to a list. This is a list of tuples, like lists but immutable"
   ]
  },
  {
   "cell_type": "markdown",
   "metadata": {},
   "source": [
    "We created a **list of tuples**. Tupples are similar to lists except that they are an *immutable* type. Many Python functions prefer to return tuples instead of lists."
   ]
  },
  {
   "cell_type": "code",
   "execution_count": 42,
   "metadata": {},
   "outputs": [
    {
     "name": "stdout",
     "output_type": "stream",
     "text": [
      "[('GTCGTATATA', 'ACTGA'), ('GATTCTA', 'AGTTATAT'), ('GATTCTA', 'TTT')]\n",
      "('GTCGTATATA', 'ACTGA')\n",
      "ACTGA\n"
     ]
    }
   ],
   "source": [
    "paired_list = list(zip(dnas, dnas2))\n",
    "print(paired_list)\n",
    "print(paired_list[0]) #to get the first element\n",
    "print(paired_list[0][1]) #to get the first and the second element of the list (the first and second tuples)"
   ]
  },
  {
   "cell_type": "code",
   "execution_count": 43,
   "metadata": {},
   "outputs": [
    {
     "name": "stdout",
     "output_type": "stream",
     "text": [
      "['GTCGTATATA', 'GATTCTA', 'GATTCTA', 'ATG']\n",
      "['ACTGA', 'AGTTATAT', 'TTT']\n",
      "GTCGTATATA ACTGA\n",
      "GATTCTA AGTTATAT\n",
      "GATTCTA TTT\n"
     ]
    }
   ],
   "source": [
    "print(dnas)\n",
    "print(dnas2)\n",
    "for dna, dna2 in zip(dnas, dnas2):\n",
    "    print(dna, dna2)"
   ]
  },
  {
   "cell_type": "markdown",
   "metadata": {},
   "source": [
    "In many cases we need to work with element indexes. For this we use the function *enumerate*"
   ]
  },
  {
   "cell_type": "code",
   "execution_count": 44,
   "metadata": {},
   "outputs": [
    {
     "name": "stdout",
     "output_type": "stream",
     "text": [
      "0 GTCGTATATA\n",
      "1 GATTCTA\n",
      "2 GATTCTA\n",
      "3 ATG\n"
     ]
    }
   ],
   "source": [
    "for num, dna in enumerate(dnas):\n",
    "    print(num, dna) #we have to put two variable names: num, for the numbering of the elements, and dna, for the elements"
   ]
  },
  {
   "cell_type": "markdown",
   "metadata": {},
   "source": [
    "## Read and wirte files"
   ]
  },
  {
   "cell_type": "markdown",
   "metadata": {},
   "source": [
    "The function **open** is used to open files. By default it opens a file in *read* mode.\n",
    "The method **read** can subsequently read a file object into a string."
   ]
  },
  {
   "cell_type": "code",
   "execution_count": 51,
   "metadata": {},
   "outputs": [],
   "source": [
    "f = open('brca1_cds.dna')\n",
    "content = f.read()"
   ]
  },
  {
   "cell_type": "markdown",
   "metadata": {},
   "source": [
    "Notice that *content* contains end-of-line caracters"
   ]
  },
  {
   "cell_type": "code",
   "execution_count": 52,
   "metadata": {},
   "outputs": [
    {
     "data": {
      "text/plain": [
       "'atggatttatctgctcttcgcgttgaagaagtacaaaatgtcattaatgctatgcagaaaatcttagagtgtcccatctg\\ntctggagttgatcaaggaacctgtctccacaaagtgtgaccacatattttgcaa\\nattttgcatgctgaaacttctcaaccagaagaaagggccttcacagtgtcctttatgtaagaatgatataaccaaaag\\ngagcctacaagaaagtacgagatttagtcaacttgttgaagagctattgaaaatcatttgtgcttttcagcttgacacaggtttggagt\\natgcaaacagctataattttgcaaaaaaggaaaataactctcctgaacatctaaaagatgaagtttctatcatccaaagtatgggctacagaaaccgtgccaaaagacttctacagagtgaacccgaaaatccttccttg\\ncaggaaaccagtctcagtgtccaactctctaaccttggaactgtgagaactctgaggacaaagcagcggatacaacctcaaaagacgtctgtctacattgaattgg\\ngatctgattcttctgaagataccgttaataaggcaacttattgcag\\ntgtgggagatcaagaattgttacaaatcacccctcaaggaaccagggatgaaatcagtttggattctgcaaaaaagg\\nctgcttgtgaattttctgagacggatgtaacaaatactgaacatcatcaacccagtaataatgatttgaacaccactgagaagcgtgcagctgagaggcatccagaaaagtatcagggtagttctgtttcaaacttgcatgtggagccatgtggcacaaatactcatgccagctcattacagcatgagaacagcagtttattactcactaaagacagaatgaatgtagaaaaggctgaattctgtaataaaagcaaacagcctggcttagcaaggagccaacataacagatgggctggaagtaaggaaacatgtaatgataggcggactcccagcacagaaaaaaaggtagatctgaatgctgatcccctgtgtgagagaaaagaatggaataagcagaaactgccatgctcagagaatcctagagatactgaagatgttccttggataacactaaatagcagcattcagaaagttaatgagtggttttccagaagtgatgaactgttaggttctgatgactcacatgatggggagtctgaatcaaatgccaaagtagctgatgtattggacgttctaaatgaggtagatgaatattctggttcttcagagaaaatagacttactggccagtgatcctcatgaggctttaatatgtaaaagtgaaagagttcactccaaatcagtagagagtaatattgaagacaaaatatttgggaaaacctatcggaagaaggcaagcctccccaacttaagccatgtaactgaaaatctaattataggagcatttgttactgagccacagataatacaagagcgtcccctcacaaataaattaaagcgtaaaaggagacctacatcaggccttcatcctgaggattttatcaagaaagcagatttggcagttcaaaagactcctgaaatgataaatcagggaactaaccaaacggagcagaatggtcaagtgatgaatattactaatagtggtcatgagaataaaacaaaaggtgattctattcagaatgagaaaaatcctaacccaatagaatcactcgaaaaagaatctgctttcaaaacgaaagctgaacctataagcagcagtataagcaatatggaactcgaattaaatatccacaattcaaaagcacctaaaaagaataggctgaggaggaagtcttctaccaggcatattcatgcgcttgaactagtagtcagtagaaatctaagcccacctaattgtactgaattgcaaattgatagttgttctagcagtgaagagataaagaaaaaaaagtacaaccaaatgccagtcaggcacagcagaaacctacaactcatggaaggtaaagaacctgcaactggagccaagaagagtaacaagccaaatgaacagacaagtaaaagacatgacagcgatactttcccagagctgaagttaacaaatgcacctggttcttttactaagtgttcaaataccagtgaacttaaagaatttgtcaatcctagccttccaagagaagaaaaagaagagaaactagaaacagttaaagtgtctaataatgctgaagaccccaaagatctcatgttaagtggagaaagggttttgcaaactgaaagatctgtagagagtagcagtatttcattggtacctggtactgattatggcactcaggaaagtatctcgttactggaagttagcactctagggaaggcaaaaacagaaccaaataaatgtgtgagtcagtgtgcagcatttgaaaaccccaagggactaattcatggttgttccaaagataatagaaatgacacagaaggctttaagtatccattgggacatgaagttaaccacagtcgggaaacaagcatagaaatggaagaaagtgaacttgatgctcagtatttgcagaatacattcaaggtttcaaagcgccagtcatttgctccgttttcaaatccaggaaatgcagaagaggaatgtgcaacattctctgcccactctgggtccttaaagaaacaaagtccaaaagtcacttttgaatgtgaacaaaaggaagaaaatcaaggaaagaatgagtctaatatcaagcctgtacagacagttaatatcactgcaggctttcctgtggttggtcagaaagataagccagttgataatgccaaatgtagtatcaaaggaggctctaggttttgtctatcatctcagttcagaggcaacgaaactggactcattactccaaataaacatggacttttacaaaacccatatcgtataccaccactttttcccatcaagtcatttgttaaaactaaatgtaagaaaaatctgctagaggaaaactttgaggaacattcaatgtcacctgaaagagaaatgggaaatgagaacattccaagtacagtgagcacaattagccgtaataacattagagaaaatgtttttaaagaagccagctcaagcaatattaatgaagtaggttccagtactaatgaagtgggctccagtattaatgaaataggttccagtgatgaaaacattcaagcagaactaggtagaaacagagggccaaaattgaatgctatgcttagattaggggttttgcaacctgaggtctataaacaaagtcttcctggaagtaattgtaagcatcctgaaataaaaaagcaagaatatgaagaagtagttcagactgttaatacagatttctctccatatctgatttcagataacttagaacagcctatgggaagtagtcatgcatctcaggtttgttctgagacacctgatgacctgttagatgatggtgaaataaaggaagatactagttttgctgaaaatgacattaaggaaagttctgctgtttttagcaaaagcgtccagaaaggagagcttagcaggagtcctagccctttcacccatacacatttggctcagggttaccgaagaggggccaagaaattagagtcctcagaagagaacttatctagtgaggatgaagagcttccctgcttccaacacttgttatttggtaaagtaaacaatataccttctcagtctactaggcatagcaccgttgctaccgagtgtctgtctaagaacacagaggagaatttattatcattgaagaatagcttaaatgactgcagtaaccaggtaatattggcaaaggcatctcaggaacatcaccttagtgaggaaacaaaatgttctgctagcttgttttcttcacagtgcagtgaattggaagacttgactgcaaatacaaacacccaggatcctttcttgattggttcttccaaacaaatgaggcatcagtctgaaagccagggagttggtctgagtgacaaggaattggtttcagatgatgaagaaagaggaacgggcttggaagaaaataatcaagaagagcaaagcatggattcaaacttag\\ngtgaagcagcatctgggtgtgagagtgaaacaagcgtctctgaagactgctcagggctatcctctcagagtgacattttaaccactcag\\ncagagggataccatgcaacataacctgataaagctccagcaggaaatggctgaactagaagctgtgttagaacagcatgggagccagccttctaacagctacccttccatcataagtgactcttctgcccttgaggacctgcgaaatccagaacaaagcacatcagaaaaag\\ncagtattaacttcacagaaaagtagtgaataccctataagccagaatccagaaggcctttctgctgacaagtttgaggtgtctgcagatagttctaccagtaaaaataaagaaccaggagtggaaag\\ngtcatccccttctaaatgcccatcattagatgataggtggtacatgcacagttgctctgggagtcttcagaatagaaactacccatctcaagaggagctcattaaggttgttgatgtggaggagcaacagctggaagagtctgggccacacgatttgacggaaacatcttacttgccaaggcaagatctag\\nagggaaccccttacctggaatctggaatcagcctcttctctgatgaccctgaatctgatccttctgaagacagagccccagagtcagctcgtgttggcaacataccatcttcaacctctgcattgaaagttccccaattgaaagttgcagaatctgcccagagtccagctgctgctcatactactgatactgctgggtataatgcaatggaagaaagtgtgagcagggagaagccagaattgacagcttcaacagaaagggtcaacaaaagaatgtccatggtggtgtctggcctgaccccagaagaattt\\natgctcgtgtacaagtttgccagaaaacaccacatcactttaactaatctaattactgaagagactactcatgttgttatgaaaacag\\natgctgagtttgtgtgtgaacggacactgaaatattttctaggaattgcgggaggaaaatgggtagttagctatttct\\ngggtgacccagtctattaaagaaagaaaaatgctgaatgag\\ncatgattttgaagtcagaggagatgtggtcaatggaagaaaccaccaaggtccaaagcgagcaagagaatcccaggacagaaag\\natcttcagggggctagaaatctgttgctatgggcccttcaccaacatgcccacag\\natcaactggaatggatggtacagctgtgtggtgcttctgtggtgaaggagctttcatcattcacccttggcaca\\nggtgtccacccaattgtggttgtgcagccagatgcctggacagaggacaatggcttccatg\\ncaattgggcagatgtgtgaggcacctgtggtgacccgagagtgggtgttggacagtgtagcactctaccagtgccaggagctggacacctacctgataccccagatcccccacagccactactga\\n'"
      ]
     },
     "execution_count": 52,
     "metadata": {},
     "output_type": "execute_result"
    }
   ],
   "source": [
    "content"
   ]
  },
  {
   "cell_type": "markdown",
   "metadata": {},
   "source": [
    "But these are not shown when printing. The provide the actual new-line jump"
   ]
  },
  {
   "cell_type": "code",
   "execution_count": 53,
   "metadata": {},
   "outputs": [
    {
     "name": "stdout",
     "output_type": "stream",
     "text": [
      "atggatttatctgctcttcgcgttgaagaagtacaaaatgtcattaatgctatgcagaaaatcttagagtgtcccatctg\n",
      "tctggagttgatcaaggaacctgtctccacaaagtgtgaccacatattttgcaa\n",
      "attttgcatgctgaaacttctcaaccagaagaaagggccttcacagtgtcctttatgtaagaatgatataaccaaaag\n",
      "gagcctacaagaaagtacgagatttagtcaacttgttgaagagctattgaaaatcatttgtgcttttcagcttgacacaggtttggagt\n",
      "atgcaaacagctataattttgcaaaaaaggaaaataactctcctgaacatctaaaagatgaagtttctatcatccaaagtatgggctacagaaaccgtgccaaaagacttctacagagtgaacccgaaaatccttccttg\n",
      "caggaaaccagtctcagtgtccaactctctaaccttggaactgtgagaactctgaggacaaagcagcggatacaacctcaaaagacgtctgtctacattgaattgg\n",
      "gatctgattcttctgaagataccgttaataaggcaacttattgcag\n",
      "tgtgggagatcaagaattgttacaaatcacccctcaaggaaccagggatgaaatcagtttggattctgcaaaaaagg\n",
      "ctgcttgtgaattttctgagacggatgtaacaaatactgaacatcatcaacccagtaataatgatttgaacaccactgagaagcgtgcagctgagaggcatccagaaaagtatcagggtagttctgtttcaaacttgcatgtggagccatgtggcacaaatactcatgccagctcattacagcatgagaacagcagtttattactcactaaagacagaatgaatgtagaaaaggctgaattctgtaataaaagcaaacagcctggcttagcaaggagccaacataacagatgggctggaagtaaggaaacatgtaatgataggcggactcccagcacagaaaaaaaggtagatctgaatgctgatcccctgtgtgagagaaaagaatggaataagcagaaactgccatgctcagagaatcctagagatactgaagatgttccttggataacactaaatagcagcattcagaaagttaatgagtggttttccagaagtgatgaactgttaggttctgatgactcacatgatggggagtctgaatcaaatgccaaagtagctgatgtattggacgttctaaatgaggtagatgaatattctggttcttcagagaaaatagacttactggccagtgatcctcatgaggctttaatatgtaaaagtgaaagagttcactccaaatcagtagagagtaatattgaagacaaaatatttgggaaaacctatcggaagaaggcaagcctccccaacttaagccatgtaactgaaaatctaattataggagcatttgttactgagccacagataatacaagagcgtcccctcacaaataaattaaagcgtaaaaggagacctacatcaggccttcatcctgaggattttatcaagaaagcagatttggcagttcaaaagactcctgaaatgataaatcagggaactaaccaaacggagcagaatggtcaagtgatgaatattactaatagtggtcatgagaataaaacaaaaggtgattctattcagaatgagaaaaatcctaacccaatagaatcactcgaaaaagaatctgctttcaaaacgaaagctgaacctataagcagcagtataagcaatatggaactcgaattaaatatccacaattcaaaagcacctaaaaagaataggctgaggaggaagtcttctaccaggcatattcatgcgcttgaactagtagtcagtagaaatctaagcccacctaattgtactgaattgcaaattgatagttgttctagcagtgaagagataaagaaaaaaaagtacaaccaaatgccagtcaggcacagcagaaacctacaactcatggaaggtaaagaacctgcaactggagccaagaagagtaacaagccaaatgaacagacaagtaaaagacatgacagcgatactttcccagagctgaagttaacaaatgcacctggttcttttactaagtgttcaaataccagtgaacttaaagaatttgtcaatcctagccttccaagagaagaaaaagaagagaaactagaaacagttaaagtgtctaataatgctgaagaccccaaagatctcatgttaagtggagaaagggttttgcaaactgaaagatctgtagagagtagcagtatttcattggtacctggtactgattatggcactcaggaaagtatctcgttactggaagttagcactctagggaaggcaaaaacagaaccaaataaatgtgtgagtcagtgtgcagcatttgaaaaccccaagggactaattcatggttgttccaaagataatagaaatgacacagaaggctttaagtatccattgggacatgaagttaaccacagtcgggaaacaagcatagaaatggaagaaagtgaacttgatgctcagtatttgcagaatacattcaaggtttcaaagcgccagtcatttgctccgttttcaaatccaggaaatgcagaagaggaatgtgcaacattctctgcccactctgggtccttaaagaaacaaagtccaaaagtcacttttgaatgtgaacaaaaggaagaaaatcaaggaaagaatgagtctaatatcaagcctgtacagacagttaatatcactgcaggctttcctgtggttggtcagaaagataagccagttgataatgccaaatgtagtatcaaaggaggctctaggttttgtctatcatctcagttcagaggcaacgaaactggactcattactccaaataaacatggacttttacaaaacccatatcgtataccaccactttttcccatcaagtcatttgttaaaactaaatgtaagaaaaatctgctagaggaaaactttgaggaacattcaatgtcacctgaaagagaaatgggaaatgagaacattccaagtacagtgagcacaattagccgtaataacattagagaaaatgtttttaaagaagccagctcaagcaatattaatgaagtaggttccagtactaatgaagtgggctccagtattaatgaaataggttccagtgatgaaaacattcaagcagaactaggtagaaacagagggccaaaattgaatgctatgcttagattaggggttttgcaacctgaggtctataaacaaagtcttcctggaagtaattgtaagcatcctgaaataaaaaagcaagaatatgaagaagtagttcagactgttaatacagatttctctccatatctgatttcagataacttagaacagcctatgggaagtagtcatgcatctcaggtttgttctgagacacctgatgacctgttagatgatggtgaaataaaggaagatactagttttgctgaaaatgacattaaggaaagttctgctgtttttagcaaaagcgtccagaaaggagagcttagcaggagtcctagccctttcacccatacacatttggctcagggttaccgaagaggggccaagaaattagagtcctcagaagagaacttatctagtgaggatgaagagcttccctgcttccaacacttgttatttggtaaagtaaacaatataccttctcagtctactaggcatagcaccgttgctaccgagtgtctgtctaagaacacagaggagaatttattatcattgaagaatagcttaaatgactgcagtaaccaggtaatattggcaaaggcatctcaggaacatcaccttagtgaggaaacaaaatgttctgctagcttgttttcttcacagtgcagtgaattggaagacttgactgcaaatacaaacacccaggatcctttcttgattggttcttccaaacaaatgaggcatcagtctgaaagccagggagttggtctgagtgacaaggaattggtttcagatgatgaagaaagaggaacgggcttggaagaaaataatcaagaagagcaaagcatggattcaaacttag\n",
      "gtgaagcagcatctgggtgtgagagtgaaacaagcgtctctgaagactgctcagggctatcctctcagagtgacattttaaccactcag\n",
      "cagagggataccatgcaacataacctgataaagctccagcaggaaatggctgaactagaagctgtgttagaacagcatgggagccagccttctaacagctacccttccatcataagtgactcttctgcccttgaggacctgcgaaatccagaacaaagcacatcagaaaaag\n",
      "cagtattaacttcacagaaaagtagtgaataccctataagccagaatccagaaggcctttctgctgacaagtttgaggtgtctgcagatagttctaccagtaaaaataaagaaccaggagtggaaag\n",
      "gtcatccccttctaaatgcccatcattagatgataggtggtacatgcacagttgctctgggagtcttcagaatagaaactacccatctcaagaggagctcattaaggttgttgatgtggaggagcaacagctggaagagtctgggccacacgatttgacggaaacatcttacttgccaaggcaagatctag\n",
      "agggaaccccttacctggaatctggaatcagcctcttctctgatgaccctgaatctgatccttctgaagacagagccccagagtcagctcgtgttggcaacataccatcttcaacctctgcattgaaagttccccaattgaaagttgcagaatctgcccagagtccagctgctgctcatactactgatactgctgggtataatgcaatggaagaaagtgtgagcagggagaagccagaattgacagcttcaacagaaagggtcaacaaaagaatgtccatggtggtgtctggcctgaccccagaagaattt\n",
      "atgctcgtgtacaagtttgccagaaaacaccacatcactttaactaatctaattactgaagagactactcatgttgttatgaaaacag\n",
      "atgctgagtttgtgtgtgaacggacactgaaatattttctaggaattgcgggaggaaaatgggtagttagctatttct\n",
      "gggtgacccagtctattaaagaaagaaaaatgctgaatgag\n",
      "catgattttgaagtcagaggagatgtggtcaatggaagaaaccaccaaggtccaaagcgagcaagagaatcccaggacagaaag\n",
      "atcttcagggggctagaaatctgttgctatgggcccttcaccaacatgcccacag\n",
      "atcaactggaatggatggtacagctgtgtggtgcttctgtggtgaaggagctttcatcattcacccttggcaca\n",
      "ggtgtccacccaattgtggttgtgcagccagatgcctggacagaggacaatggcttccatg\n",
      "caattgggcagatgtgtgaggcacctgtggtgacccgagagtgggtgttggacagtgtagcactctaccagtgccaggagctggacacctacctgataccccagatcccccacagccactactga\n",
      "\n"
     ]
    }
   ],
   "source": [
    "print(content)"
   ]
  },
  {
   "cell_type": "markdown",
   "metadata": {},
   "source": [
    "The method **.read()** *\"consumes\"* the file object. If we call it again we get an empty list unless we re-open the file again. "
   ]
  },
  {
   "cell_type": "code",
   "execution_count": 54,
   "metadata": {},
   "outputs": [
    {
     "data": {
      "text/plain": [
       "''"
      ]
     },
     "execution_count": 54,
     "metadata": {},
     "output_type": "execute_result"
    }
   ],
   "source": [
    "f.read()"
   ]
  },
  {
   "cell_type": "markdown",
   "metadata": {},
   "source": [
    "After using a file it is good practice to close it."
   ]
  },
  {
   "cell_type": "code",
   "execution_count": 56,
   "metadata": {},
   "outputs": [],
   "source": [
    "f.close()"
   ]
  },
  {
   "cell_type": "markdown",
   "metadata": {},
   "source": [
    "Since the file object is an *iterable* we can use it in a for loop and iterate through the lines directly."
   ]
  },
  {
   "cell_type": "code",
   "execution_count": 57,
   "metadata": {},
   "outputs": [
    {
     "name": "stdout",
     "output_type": "stream",
     "text": [
      "atggatttatctgctcttcgcgttgaagaagtacaaaatgtcattaatgctatgcagaaaatcttagagtgtcccatctg\n",
      "\n",
      "tctggagttgatcaaggaacctgtctccacaaagtgtgaccacatattttgcaa\n",
      "\n",
      "attttgcatgctgaaacttctcaaccagaagaaagggccttcacagtgtcctttatgtaagaatgatataaccaaaag\n",
      "\n",
      "gagcctacaagaaagtacgagatttagtcaacttgttgaagagctattgaaaatcatttgtgcttttcagcttgacacaggtttggagt\n",
      "\n",
      "atgcaaacagctataattttgcaaaaaaggaaaataactctcctgaacatctaaaagatgaagtttctatcatccaaagtatgggctacagaaaccgtgccaaaagacttctacagagtgaacccgaaaatccttccttg\n",
      "\n",
      "caggaaaccagtctcagtgtccaactctctaaccttggaactgtgagaactctgaggacaaagcagcggatacaacctcaaaagacgtctgtctacattgaattgg\n",
      "\n",
      "gatctgattcttctgaagataccgttaataaggcaacttattgcag\n",
      "\n",
      "tgtgggagatcaagaattgttacaaatcacccctcaaggaaccagggatgaaatcagtttggattctgcaaaaaagg\n",
      "\n",
      "ctgcttgtgaattttctgagacggatgtaacaaatactgaacatcatcaacccagtaataatgatttgaacaccactgagaagcgtgcagctgagaggcatccagaaaagtatcagggtagttctgtttcaaacttgcatgtggagccatgtggcacaaatactcatgccagctcattacagcatgagaacagcagtttattactcactaaagacagaatgaatgtagaaaaggctgaattctgtaataaaagcaaacagcctggcttagcaaggagccaacataacagatgggctggaagtaaggaaacatgtaatgataggcggactcccagcacagaaaaaaaggtagatctgaatgctgatcccctgtgtgagagaaaagaatggaataagcagaaactgccatgctcagagaatcctagagatactgaagatgttccttggataacactaaatagcagcattcagaaagttaatgagtggttttccagaagtgatgaactgttaggttctgatgactcacatgatggggagtctgaatcaaatgccaaagtagctgatgtattggacgttctaaatgaggtagatgaatattctggttcttcagagaaaatagacttactggccagtgatcctcatgaggctttaatatgtaaaagtgaaagagttcactccaaatcagtagagagtaatattgaagacaaaatatttgggaaaacctatcggaagaaggcaagcctccccaacttaagccatgtaactgaaaatctaattataggagcatttgttactgagccacagataatacaagagcgtcccctcacaaataaattaaagcgtaaaaggagacctacatcaggccttcatcctgaggattttatcaagaaagcagatttggcagttcaaaagactcctgaaatgataaatcagggaactaaccaaacggagcagaatggtcaagtgatgaatattactaatagtggtcatgagaataaaacaaaaggtgattctattcagaatgagaaaaatcctaacccaatagaatcactcgaaaaagaatctgctttcaaaacgaaagctgaacctataagcagcagtataagcaatatggaactcgaattaaatatccacaattcaaaagcacctaaaaagaataggctgaggaggaagtcttctaccaggcatattcatgcgcttgaactagtagtcagtagaaatctaagcccacctaattgtactgaattgcaaattgatagttgttctagcagtgaagagataaagaaaaaaaagtacaaccaaatgccagtcaggcacagcagaaacctacaactcatggaaggtaaagaacctgcaactggagccaagaagagtaacaagccaaatgaacagacaagtaaaagacatgacagcgatactttcccagagctgaagttaacaaatgcacctggttcttttactaagtgttcaaataccagtgaacttaaagaatttgtcaatcctagccttccaagagaagaaaaagaagagaaactagaaacagttaaagtgtctaataatgctgaagaccccaaagatctcatgttaagtggagaaagggttttgcaaactgaaagatctgtagagagtagcagtatttcattggtacctggtactgattatggcactcaggaaagtatctcgttactggaagttagcactctagggaaggcaaaaacagaaccaaataaatgtgtgagtcagtgtgcagcatttgaaaaccccaagggactaattcatggttgttccaaagataatagaaatgacacagaaggctttaagtatccattgggacatgaagttaaccacagtcgggaaacaagcatagaaatggaagaaagtgaacttgatgctcagtatttgcagaatacattcaaggtttcaaagcgccagtcatttgctccgttttcaaatccaggaaatgcagaagaggaatgtgcaacattctctgcccactctgggtccttaaagaaacaaagtccaaaagtcacttttgaatgtgaacaaaaggaagaaaatcaaggaaagaatgagtctaatatcaagcctgtacagacagttaatatcactgcaggctttcctgtggttggtcagaaagataagccagttgataatgccaaatgtagtatcaaaggaggctctaggttttgtctatcatctcagttcagaggcaacgaaactggactcattactccaaataaacatggacttttacaaaacccatatcgtataccaccactttttcccatcaagtcatttgttaaaactaaatgtaagaaaaatctgctagaggaaaactttgaggaacattcaatgtcacctgaaagagaaatgggaaatgagaacattccaagtacagtgagcacaattagccgtaataacattagagaaaatgtttttaaagaagccagctcaagcaatattaatgaagtaggttccagtactaatgaagtgggctccagtattaatgaaataggttccagtgatgaaaacattcaagcagaactaggtagaaacagagggccaaaattgaatgctatgcttagattaggggttttgcaacctgaggtctataaacaaagtcttcctggaagtaattgtaagcatcctgaaataaaaaagcaagaatatgaagaagtagttcagactgttaatacagatttctctccatatctgatttcagataacttagaacagcctatgggaagtagtcatgcatctcaggtttgttctgagacacctgatgacctgttagatgatggtgaaataaaggaagatactagttttgctgaaaatgacattaaggaaagttctgctgtttttagcaaaagcgtccagaaaggagagcttagcaggagtcctagccctttcacccatacacatttggctcagggttaccgaagaggggccaagaaattagagtcctcagaagagaacttatctagtgaggatgaagagcttccctgcttccaacacttgttatttggtaaagtaaacaatataccttctcagtctactaggcatagcaccgttgctaccgagtgtctgtctaagaacacagaggagaatttattatcattgaagaatagcttaaatgactgcagtaaccaggtaatattggcaaaggcatctcaggaacatcaccttagtgaggaaacaaaatgttctgctagcttgttttcttcacagtgcagtgaattggaagacttgactgcaaatacaaacacccaggatcctttcttgattggttcttccaaacaaatgaggcatcagtctgaaagccagggagttggtctgagtgacaaggaattggtttcagatgatgaagaaagaggaacgggcttggaagaaaataatcaagaagagcaaagcatggattcaaacttag\n",
      "\n",
      "gtgaagcagcatctgggtgtgagagtgaaacaagcgtctctgaagactgctcagggctatcctctcagagtgacattttaaccactcag\n",
      "\n",
      "cagagggataccatgcaacataacctgataaagctccagcaggaaatggctgaactagaagctgtgttagaacagcatgggagccagccttctaacagctacccttccatcataagtgactcttctgcccttgaggacctgcgaaatccagaacaaagcacatcagaaaaag\n",
      "\n",
      "cagtattaacttcacagaaaagtagtgaataccctataagccagaatccagaaggcctttctgctgacaagtttgaggtgtctgcagatagttctaccagtaaaaataaagaaccaggagtggaaag\n",
      "\n",
      "gtcatccccttctaaatgcccatcattagatgataggtggtacatgcacagttgctctgggagtcttcagaatagaaactacccatctcaagaggagctcattaaggttgttgatgtggaggagcaacagctggaagagtctgggccacacgatttgacggaaacatcttacttgccaaggcaagatctag\n",
      "\n",
      "agggaaccccttacctggaatctggaatcagcctcttctctgatgaccctgaatctgatccttctgaagacagagccccagagtcagctcgtgttggcaacataccatcttcaacctctgcattgaaagttccccaattgaaagttgcagaatctgcccagagtccagctgctgctcatactactgatactgctgggtataatgcaatggaagaaagtgtgagcagggagaagccagaattgacagcttcaacagaaagggtcaacaaaagaatgtccatggtggtgtctggcctgaccccagaagaattt\n",
      "\n",
      "atgctcgtgtacaagtttgccagaaaacaccacatcactttaactaatctaattactgaagagactactcatgttgttatgaaaacag\n",
      "\n",
      "atgctgagtttgtgtgtgaacggacactgaaatattttctaggaattgcgggaggaaaatgggtagttagctatttct\n",
      "\n",
      "gggtgacccagtctattaaagaaagaaaaatgctgaatgag\n",
      "\n",
      "catgattttgaagtcagaggagatgtggtcaatggaagaaaccaccaaggtccaaagcgagcaagagaatcccaggacagaaag\n",
      "\n",
      "atcttcagggggctagaaatctgttgctatgggcccttcaccaacatgcccacag\n",
      "\n",
      "atcaactggaatggatggtacagctgtgtggtgcttctgtggtgaaggagctttcatcattcacccttggcaca\n",
      "\n",
      "ggtgtccacccaattgtggttgtgcagccagatgcctggacagaggacaatggcttccatg\n",
      "\n",
      "caattgggcagatgtgtgaggcacctgtggtgacccgagagtgggtgttggacagtgtagcactctaccagtgccaggagctggacacctacctgataccccagatcccccacagccactactga\n",
      "\n"
     ]
    }
   ],
   "source": [
    "f = open('brca1_cds.dna')\n",
    "for line in f:\n",
    "    print(line)\n",
    "f.close()"
   ]
  },
  {
   "cell_type": "markdown",
   "metadata": {},
   "source": [
    "Notice that every print statement adds an end-of-line character. Since each variable **line** has already and end-of-line charater we often want to remove it. The **.strip()** method (without any argument) removes spaces and end-of-lines characters at the begining or end of the variable"
   ]
  },
  {
   "cell_type": "code",
   "execution_count": 58,
   "metadata": {},
   "outputs": [
    {
     "name": "stdout",
     "output_type": "stream",
     "text": [
      "atggatttatctgctcttcgcgttgaagaagtacaaaatgtcattaatgctatgcagaaaatcttagagtgtcccatctg\n",
      "tctggagttgatcaaggaacctgtctccacaaagtgtgaccacatattttgcaa\n",
      "attttgcatgctgaaacttctcaaccagaagaaagggccttcacagtgtcctttatgtaagaatgatataaccaaaag\n",
      "gagcctacaagaaagtacgagatttagtcaacttgttgaagagctattgaaaatcatttgtgcttttcagcttgacacaggtttggagt\n",
      "atgcaaacagctataattttgcaaaaaaggaaaataactctcctgaacatctaaaagatgaagtttctatcatccaaagtatgggctacagaaaccgtgccaaaagacttctacagagtgaacccgaaaatccttccttg\n",
      "caggaaaccagtctcagtgtccaactctctaaccttggaactgtgagaactctgaggacaaagcagcggatacaacctcaaaagacgtctgtctacattgaattgg\n",
      "gatctgattcttctgaagataccgttaataaggcaacttattgcag\n",
      "tgtgggagatcaagaattgttacaaatcacccctcaaggaaccagggatgaaatcagtttggattctgcaaaaaagg\n",
      "ctgcttgtgaattttctgagacggatgtaacaaatactgaacatcatcaacccagtaataatgatttgaacaccactgagaagcgtgcagctgagaggcatccagaaaagtatcagggtagttctgtttcaaacttgcatgtggagccatgtggcacaaatactcatgccagctcattacagcatgagaacagcagtttattactcactaaagacagaatgaatgtagaaaaggctgaattctgtaataaaagcaaacagcctggcttagcaaggagccaacataacagatgggctggaagtaaggaaacatgtaatgataggcggactcccagcacagaaaaaaaggtagatctgaatgctgatcccctgtgtgagagaaaagaatggaataagcagaaactgccatgctcagagaatcctagagatactgaagatgttccttggataacactaaatagcagcattcagaaagttaatgagtggttttccagaagtgatgaactgttaggttctgatgactcacatgatggggagtctgaatcaaatgccaaagtagctgatgtattggacgttctaaatgaggtagatgaatattctggttcttcagagaaaatagacttactggccagtgatcctcatgaggctttaatatgtaaaagtgaaagagttcactccaaatcagtagagagtaatattgaagacaaaatatttgggaaaacctatcggaagaaggcaagcctccccaacttaagccatgtaactgaaaatctaattataggagcatttgttactgagccacagataatacaagagcgtcccctcacaaataaattaaagcgtaaaaggagacctacatcaggccttcatcctgaggattttatcaagaaagcagatttggcagttcaaaagactcctgaaatgataaatcagggaactaaccaaacggagcagaatggtcaagtgatgaatattactaatagtggtcatgagaataaaacaaaaggtgattctattcagaatgagaaaaatcctaacccaatagaatcactcgaaaaagaatctgctttcaaaacgaaagctgaacctataagcagcagtataagcaatatggaactcgaattaaatatccacaattcaaaagcacctaaaaagaataggctgaggaggaagtcttctaccaggcatattcatgcgcttgaactagtagtcagtagaaatctaagcccacctaattgtactgaattgcaaattgatagttgttctagcagtgaagagataaagaaaaaaaagtacaaccaaatgccagtcaggcacagcagaaacctacaactcatggaaggtaaagaacctgcaactggagccaagaagagtaacaagccaaatgaacagacaagtaaaagacatgacagcgatactttcccagagctgaagttaacaaatgcacctggttcttttactaagtgttcaaataccagtgaacttaaagaatttgtcaatcctagccttccaagagaagaaaaagaagagaaactagaaacagttaaagtgtctaataatgctgaagaccccaaagatctcatgttaagtggagaaagggttttgcaaactgaaagatctgtagagagtagcagtatttcattggtacctggtactgattatggcactcaggaaagtatctcgttactggaagttagcactctagggaaggcaaaaacagaaccaaataaatgtgtgagtcagtgtgcagcatttgaaaaccccaagggactaattcatggttgttccaaagataatagaaatgacacagaaggctttaagtatccattgggacatgaagttaaccacagtcgggaaacaagcatagaaatggaagaaagtgaacttgatgctcagtatttgcagaatacattcaaggtttcaaagcgccagtcatttgctccgttttcaaatccaggaaatgcagaagaggaatgtgcaacattctctgcccactctgggtccttaaagaaacaaagtccaaaagtcacttttgaatgtgaacaaaaggaagaaaatcaaggaaagaatgagtctaatatcaagcctgtacagacagttaatatcactgcaggctttcctgtggttggtcagaaagataagccagttgataatgccaaatgtagtatcaaaggaggctctaggttttgtctatcatctcagttcagaggcaacgaaactggactcattactccaaataaacatggacttttacaaaacccatatcgtataccaccactttttcccatcaagtcatttgttaaaactaaatgtaagaaaaatctgctagaggaaaactttgaggaacattcaatgtcacctgaaagagaaatgggaaatgagaacattccaagtacagtgagcacaattagccgtaataacattagagaaaatgtttttaaagaagccagctcaagcaatattaatgaagtaggttccagtactaatgaagtgggctccagtattaatgaaataggttccagtgatgaaaacattcaagcagaactaggtagaaacagagggccaaaattgaatgctatgcttagattaggggttttgcaacctgaggtctataaacaaagtcttcctggaagtaattgtaagcatcctgaaataaaaaagcaagaatatgaagaagtagttcagactgttaatacagatttctctccatatctgatttcagataacttagaacagcctatgggaagtagtcatgcatctcaggtttgttctgagacacctgatgacctgttagatgatggtgaaataaaggaagatactagttttgctgaaaatgacattaaggaaagttctgctgtttttagcaaaagcgtccagaaaggagagcttagcaggagtcctagccctttcacccatacacatttggctcagggttaccgaagaggggccaagaaattagagtcctcagaagagaacttatctagtgaggatgaagagcttccctgcttccaacacttgttatttggtaaagtaaacaatataccttctcagtctactaggcatagcaccgttgctaccgagtgtctgtctaagaacacagaggagaatttattatcattgaagaatagcttaaatgactgcagtaaccaggtaatattggcaaaggcatctcaggaacatcaccttagtgaggaaacaaaatgttctgctagcttgttttcttcacagtgcagtgaattggaagacttgactgcaaatacaaacacccaggatcctttcttgattggttcttccaaacaaatgaggcatcagtctgaaagccagggagttggtctgagtgacaaggaattggtttcagatgatgaagaaagaggaacgggcttggaagaaaataatcaagaagagcaaagcatggattcaaacttag\n",
      "gtgaagcagcatctgggtgtgagagtgaaacaagcgtctctgaagactgctcagggctatcctctcagagtgacattttaaccactcag\n",
      "cagagggataccatgcaacataacctgataaagctccagcaggaaatggctgaactagaagctgtgttagaacagcatgggagccagccttctaacagctacccttccatcataagtgactcttctgcccttgaggacctgcgaaatccagaacaaagcacatcagaaaaag\n",
      "cagtattaacttcacagaaaagtagtgaataccctataagccagaatccagaaggcctttctgctgacaagtttgaggtgtctgcagatagttctaccagtaaaaataaagaaccaggagtggaaag\n",
      "gtcatccccttctaaatgcccatcattagatgataggtggtacatgcacagttgctctgggagtcttcagaatagaaactacccatctcaagaggagctcattaaggttgttgatgtggaggagcaacagctggaagagtctgggccacacgatttgacggaaacatcttacttgccaaggcaagatctag\n",
      "agggaaccccttacctggaatctggaatcagcctcttctctgatgaccctgaatctgatccttctgaagacagagccccagagtcagctcgtgttggcaacataccatcttcaacctctgcattgaaagttccccaattgaaagttgcagaatctgcccagagtccagctgctgctcatactactgatactgctgggtataatgcaatggaagaaagtgtgagcagggagaagccagaattgacagcttcaacagaaagggtcaacaaaagaatgtccatggtggtgtctggcctgaccccagaagaattt\n",
      "atgctcgtgtacaagtttgccagaaaacaccacatcactttaactaatctaattactgaagagactactcatgttgttatgaaaacag\n",
      "atgctgagtttgtgtgtgaacggacactgaaatattttctaggaattgcgggaggaaaatgggtagttagctatttct\n",
      "gggtgacccagtctattaaagaaagaaaaatgctgaatgag\n",
      "catgattttgaagtcagaggagatgtggtcaatggaagaaaccaccaaggtccaaagcgagcaagagaatcccaggacagaaag\n",
      "atcttcagggggctagaaatctgttgctatgggcccttcaccaacatgcccacag\n",
      "atcaactggaatggatggtacagctgtgtggtgcttctgtggtgaaggagctttcatcattcacccttggcaca\n",
      "ggtgtccacccaattgtggttgtgcagccagatgcctggacagaggacaatggcttccatg\n",
      "caattgggcagatgtgtgaggcacctgtggtgacccgagagtgggtgttggacagtgtagcactctaccagtgccaggagctggacacctacctgataccccagatcccccacagccactactga\n"
     ]
    }
   ],
   "source": [
    "f = open('brca1_cds.dna')\n",
    "for line in f:  # the file object is an iterable!\n",
    "    print(line.strip())\n",
    "f.close()"
   ]
  },
  {
   "cell_type": "markdown",
   "metadata": {},
   "source": [
    "There is no need of deffining a variable for the **file object**. Actually this will close the file automatically at the end of the loop."
   ]
  },
  {
   "cell_type": "code",
   "execution_count": 66,
   "metadata": {},
   "outputs": [
    {
     "name": "stdout",
     "output_type": "stream",
     "text": [
      "atggatttatctgctcttcgcgttgaagaagtacaaaatgtcattaatgctatgcagaaaatcttagagtgtcccatctg\n",
      "tctggagttgatcaaggaacctgtctccacaaagtgtgaccacatattttgcaa\n",
      "attttgcatgctgaaacttctcaaccagaagaaagggccttcacagtgtcctttatgtaagaatgatataaccaaaag\n",
      "gagcctacaagaaagtacgagatttagtcaacttgttgaagagctattgaaaatcatttgtgcttttcagcttgacacaggtttggagt\n",
      "atgcaaacagctataattttgcaaaaaaggaaaataactctcctgaacatctaaaagatgaagtttctatcatccaaagtatgggctacagaaaccgtgccaaaagacttctacagagtgaacccgaaaatccttccttg\n",
      "caggaaaccagtctcagtgtccaactctctaaccttggaactgtgagaactctgaggacaaagcagcggatacaacctcaaaagacgtctgtctacattgaattgg\n",
      "gatctgattcttctgaagataccgttaataaggcaacttattgcag\n",
      "tgtgggagatcaagaattgttacaaatcacccctcaaggaaccagggatgaaatcagtttggattctgcaaaaaagg\n",
      "ctgcttgtgaattttctgagacggatgtaacaaatactgaacatcatcaacccagtaataatgatttgaacaccactgagaagcgtgcagctgagaggcatccagaaaagtatcagggtagttctgtttcaaacttgcatgtggagccatgtggcacaaatactcatgccagctcattacagcatgagaacagcagtttattactcactaaagacagaatgaatgtagaaaaggctgaattctgtaataaaagcaaacagcctggcttagcaaggagccaacataacagatgggctggaagtaaggaaacatgtaatgataggcggactcccagcacagaaaaaaaggtagatctgaatgctgatcccctgtgtgagagaaaagaatggaataagcagaaactgccatgctcagagaatcctagagatactgaagatgttccttggataacactaaatagcagcattcagaaagttaatgagtggttttccagaagtgatgaactgttaggttctgatgactcacatgatggggagtctgaatcaaatgccaaagtagctgatgtattggacgttctaaatgaggtagatgaatattctggttcttcagagaaaatagacttactggccagtgatcctcatgaggctttaatatgtaaaagtgaaagagttcactccaaatcagtagagagtaatattgaagacaaaatatttgggaaaacctatcggaagaaggcaagcctccccaacttaagccatgtaactgaaaatctaattataggagcatttgttactgagccacagataatacaagagcgtcccctcacaaataaattaaagcgtaaaaggagacctacatcaggccttcatcctgaggattttatcaagaaagcagatttggcagttcaaaagactcctgaaatgataaatcagggaactaaccaaacggagcagaatggtcaagtgatgaatattactaatagtggtcatgagaataaaacaaaaggtgattctattcagaatgagaaaaatcctaacccaatagaatcactcgaaaaagaatctgctttcaaaacgaaagctgaacctataagcagcagtataagcaatatggaactcgaattaaatatccacaattcaaaagcacctaaaaagaataggctgaggaggaagtcttctaccaggcatattcatgcgcttgaactagtagtcagtagaaatctaagcccacctaattgtactgaattgcaaattgatagttgttctagcagtgaagagataaagaaaaaaaagtacaaccaaatgccagtcaggcacagcagaaacctacaactcatggaaggtaaagaacctgcaactggagccaagaagagtaacaagccaaatgaacagacaagtaaaagacatgacagcgatactttcccagagctgaagttaacaaatgcacctggttcttttactaagtgttcaaataccagtgaacttaaagaatttgtcaatcctagccttccaagagaagaaaaagaagagaaactagaaacagttaaagtgtctaataatgctgaagaccccaaagatctcatgttaagtggagaaagggttttgcaaactgaaagatctgtagagagtagcagtatttcattggtacctggtactgattatggcactcaggaaagtatctcgttactggaagttagcactctagggaaggcaaaaacagaaccaaataaatgtgtgagtcagtgtgcagcatttgaaaaccccaagggactaattcatggttgttccaaagataatagaaatgacacagaaggctttaagtatccattgggacatgaagttaaccacagtcgggaaacaagcatagaaatggaagaaagtgaacttgatgctcagtatttgcagaatacattcaaggtttcaaagcgccagtcatttgctccgttttcaaatccaggaaatgcagaagaggaatgtgcaacattctctgcccactctgggtccttaaagaaacaaagtccaaaagtcacttttgaatgtgaacaaaaggaagaaaatcaaggaaagaatgagtctaatatcaagcctgtacagacagttaatatcactgcaggctttcctgtggttggtcagaaagataagccagttgataatgccaaatgtagtatcaaaggaggctctaggttttgtctatcatctcagttcagaggcaacgaaactggactcattactccaaataaacatggacttttacaaaacccatatcgtataccaccactttttcccatcaagtcatttgttaaaactaaatgtaagaaaaatctgctagaggaaaactttgaggaacattcaatgtcacctgaaagagaaatgggaaatgagaacattccaagtacagtgagcacaattagccgtaataacattagagaaaatgtttttaaagaagccagctcaagcaatattaatgaagtaggttccagtactaatgaagtgggctccagtattaatgaaataggttccagtgatgaaaacattcaagcagaactaggtagaaacagagggccaaaattgaatgctatgcttagattaggggttttgcaacctgaggtctataaacaaagtcttcctggaagtaattgtaagcatcctgaaataaaaaagcaagaatatgaagaagtagttcagactgttaatacagatttctctccatatctgatttcagataacttagaacagcctatgggaagtagtcatgcatctcaggtttgttctgagacacctgatgacctgttagatgatggtgaaataaaggaagatactagttttgctgaaaatgacattaaggaaagttctgctgtttttagcaaaagcgtccagaaaggagagcttagcaggagtcctagccctttcacccatacacatttggctcagggttaccgaagaggggccaagaaattagagtcctcagaagagaacttatctagtgaggatgaagagcttccctgcttccaacacttgttatttggtaaagtaaacaatataccttctcagtctactaggcatagcaccgttgctaccgagtgtctgtctaagaacacagaggagaatttattatcattgaagaatagcttaaatgactgcagtaaccaggtaatattggcaaaggcatctcaggaacatcaccttagtgaggaaacaaaatgttctgctagcttgttttcttcacagtgcagtgaattggaagacttgactgcaaatacaaacacccaggatcctttcttgattggttcttccaaacaaatgaggcatcagtctgaaagccagggagttggtctgagtgacaaggaattggtttcagatgatgaagaaagaggaacgggcttggaagaaaataatcaagaagagcaaagcatggattcaaacttag\n",
      "gtgaagcagcatctgggtgtgagagtgaaacaagcgtctctgaagactgctcagggctatcctctcagagtgacattttaaccactcag\n",
      "cagagggataccatgcaacataacctgataaagctccagcaggaaatggctgaactagaagctgtgttagaacagcatgggagccagccttctaacagctacccttccatcataagtgactcttctgcccttgaggacctgcgaaatccagaacaaagcacatcagaaaaag\n",
      "cagtattaacttcacagaaaagtagtgaataccctataagccagaatccagaaggcctttctgctgacaagtttgaggtgtctgcagatagttctaccagtaaaaataaagaaccaggagtggaaag\n",
      "gtcatccccttctaaatgcccatcattagatgataggtggtacatgcacagttgctctgggagtcttcagaatagaaactacccatctcaagaggagctcattaaggttgttgatgtggaggagcaacagctggaagagtctgggccacacgatttgacggaaacatcttacttgccaaggcaagatctag\n",
      "agggaaccccttacctggaatctggaatcagcctcttctctgatgaccctgaatctgatccttctgaagacagagccccagagtcagctcgtgttggcaacataccatcttcaacctctgcattgaaagttccccaattgaaagttgcagaatctgcccagagtccagctgctgctcatactactgatactgctgggtataatgcaatggaagaaagtgtgagcagggagaagccagaattgacagcttcaacagaaagggtcaacaaaagaatgtccatggtggtgtctggcctgaccccagaagaattt\n",
      "atgctcgtgtacaagtttgccagaaaacaccacatcactttaactaatctaattactgaagagactactcatgttgttatgaaaacag\n",
      "atgctgagtttgtgtgtgaacggacactgaaatattttctaggaattgcgggaggaaaatgggtagttagctatttct\n",
      "gggtgacccagtctattaaagaaagaaaaatgctgaatgag\n",
      "catgattttgaagtcagaggagatgtggtcaatggaagaaaccaccaaggtccaaagcgagcaagagaatcccaggacagaaag\n",
      "atcttcagggggctagaaatctgttgctatgggcccttcaccaacatgcccacag\n",
      "atcaactggaatggatggtacagctgtgtggtgcttctgtggtgaaggagctttcatcattcacccttggcaca\n",
      "ggtgtccacccaattgtggttgtgcagccagatgcctggacagaggacaatggcttccatg\n",
      "caattgggcagatgtgtgaggcacctgtggtgacccgagagtgggtgttggacagtgtagcactctaccagtgccaggagctggacacctacctgataccccagatcccccacagccactactga\n"
     ]
    }
   ],
   "source": [
    "for line in open('brca1_cds.dna'):\n",
    "    print(line.strip())"
   ]
  },
  {
   "cell_type": "markdown",
   "metadata": {},
   "source": [
    "The previous snippet is OK for a simple case such as the one used here. But the most idiomatic way of opening a file in Python is using a **with statement** "
   ]
  },
  {
   "cell_type": "code",
   "execution_count": 67,
   "metadata": {},
   "outputs": [
    {
     "name": "stdout",
     "output_type": "stream",
     "text": [
      "atggatttatctgctcttcgcgttgaagaagtacaaaatgtcattaatgctatgcagaaaatcttagagtgtcccatctg\n",
      "tctggagttgatcaaggaacctgtctccacaaagtgtgaccacatattttgcaa\n",
      "attttgcatgctgaaacttctcaaccagaagaaagggccttcacagtgtcctttatgtaagaatgatataaccaaaag\n",
      "gagcctacaagaaagtacgagatttagtcaacttgttgaagagctattgaaaatcatttgtgcttttcagcttgacacaggtttggagt\n",
      "atgcaaacagctataattttgcaaaaaaggaaaataactctcctgaacatctaaaagatgaagtttctatcatccaaagtatgggctacagaaaccgtgccaaaagacttctacagagtgaacccgaaaatccttccttg\n",
      "caggaaaccagtctcagtgtccaactctctaaccttggaactgtgagaactctgaggacaaagcagcggatacaacctcaaaagacgtctgtctacattgaattgg\n",
      "gatctgattcttctgaagataccgttaataaggcaacttattgcag\n",
      "tgtgggagatcaagaattgttacaaatcacccctcaaggaaccagggatgaaatcagtttggattctgcaaaaaagg\n",
      "ctgcttgtgaattttctgagacggatgtaacaaatactgaacatcatcaacccagtaataatgatttgaacaccactgagaagcgtgcagctgagaggcatccagaaaagtatcagggtagttctgtttcaaacttgcatgtggagccatgtggcacaaatactcatgccagctcattacagcatgagaacagcagtttattactcactaaagacagaatgaatgtagaaaaggctgaattctgtaataaaagcaaacagcctggcttagcaaggagccaacataacagatgggctggaagtaaggaaacatgtaatgataggcggactcccagcacagaaaaaaaggtagatctgaatgctgatcccctgtgtgagagaaaagaatggaataagcagaaactgccatgctcagagaatcctagagatactgaagatgttccttggataacactaaatagcagcattcagaaagttaatgagtggttttccagaagtgatgaactgttaggttctgatgactcacatgatggggagtctgaatcaaatgccaaagtagctgatgtattggacgttctaaatgaggtagatgaatattctggttcttcagagaaaatagacttactggccagtgatcctcatgaggctttaatatgtaaaagtgaaagagttcactccaaatcagtagagagtaatattgaagacaaaatatttgggaaaacctatcggaagaaggcaagcctccccaacttaagccatgtaactgaaaatctaattataggagcatttgttactgagccacagataatacaagagcgtcccctcacaaataaattaaagcgtaaaaggagacctacatcaggccttcatcctgaggattttatcaagaaagcagatttggcagttcaaaagactcctgaaatgataaatcagggaactaaccaaacggagcagaatggtcaagtgatgaatattactaatagtggtcatgagaataaaacaaaaggtgattctattcagaatgagaaaaatcctaacccaatagaatcactcgaaaaagaatctgctttcaaaacgaaagctgaacctataagcagcagtataagcaatatggaactcgaattaaatatccacaattcaaaagcacctaaaaagaataggctgaggaggaagtcttctaccaggcatattcatgcgcttgaactagtagtcagtagaaatctaagcccacctaattgtactgaattgcaaattgatagttgttctagcagtgaagagataaagaaaaaaaagtacaaccaaatgccagtcaggcacagcagaaacctacaactcatggaaggtaaagaacctgcaactggagccaagaagagtaacaagccaaatgaacagacaagtaaaagacatgacagcgatactttcccagagctgaagttaacaaatgcacctggttcttttactaagtgttcaaataccagtgaacttaaagaatttgtcaatcctagccttccaagagaagaaaaagaagagaaactagaaacagttaaagtgtctaataatgctgaagaccccaaagatctcatgttaagtggagaaagggttttgcaaactgaaagatctgtagagagtagcagtatttcattggtacctggtactgattatggcactcaggaaagtatctcgttactggaagttagcactctagggaaggcaaaaacagaaccaaataaatgtgtgagtcagtgtgcagcatttgaaaaccccaagggactaattcatggttgttccaaagataatagaaatgacacagaaggctttaagtatccattgggacatgaagttaaccacagtcgggaaacaagcatagaaatggaagaaagtgaacttgatgctcagtatttgcagaatacattcaaggtttcaaagcgccagtcatttgctccgttttcaaatccaggaaatgcagaagaggaatgtgcaacattctctgcccactctgggtccttaaagaaacaaagtccaaaagtcacttttgaatgtgaacaaaaggaagaaaatcaaggaaagaatgagtctaatatcaagcctgtacagacagttaatatcactgcaggctttcctgtggttggtcagaaagataagccagttgataatgccaaatgtagtatcaaaggaggctctaggttttgtctatcatctcagttcagaggcaacgaaactggactcattactccaaataaacatggacttttacaaaacccatatcgtataccaccactttttcccatcaagtcatttgttaaaactaaatgtaagaaaaatctgctagaggaaaactttgaggaacattcaatgtcacctgaaagagaaatgggaaatgagaacattccaagtacagtgagcacaattagccgtaataacattagagaaaatgtttttaaagaagccagctcaagcaatattaatgaagtaggttccagtactaatgaagtgggctccagtattaatgaaataggttccagtgatgaaaacattcaagcagaactaggtagaaacagagggccaaaattgaatgctatgcttagattaggggttttgcaacctgaggtctataaacaaagtcttcctggaagtaattgtaagcatcctgaaataaaaaagcaagaatatgaagaagtagttcagactgttaatacagatttctctccatatctgatttcagataacttagaacagcctatgggaagtagtcatgcatctcaggtttgttctgagacacctgatgacctgttagatgatggtgaaataaaggaagatactagttttgctgaaaatgacattaaggaaagttctgctgtttttagcaaaagcgtccagaaaggagagcttagcaggagtcctagccctttcacccatacacatttggctcagggttaccgaagaggggccaagaaattagagtcctcagaagagaacttatctagtgaggatgaagagcttccctgcttccaacacttgttatttggtaaagtaaacaatataccttctcagtctactaggcatagcaccgttgctaccgagtgtctgtctaagaacacagaggagaatttattatcattgaagaatagcttaaatgactgcagtaaccaggtaatattggcaaaggcatctcaggaacatcaccttagtgaggaaacaaaatgttctgctagcttgttttcttcacagtgcagtgaattggaagacttgactgcaaatacaaacacccaggatcctttcttgattggttcttccaaacaaatgaggcatcagtctgaaagccagggagttggtctgagtgacaaggaattggtttcagatgatgaagaaagaggaacgggcttggaagaaaataatcaagaagagcaaagcatggattcaaacttag\n",
      "gtgaagcagcatctgggtgtgagagtgaaacaagcgtctctgaagactgctcagggctatcctctcagagtgacattttaaccactcag\n",
      "cagagggataccatgcaacataacctgataaagctccagcaggaaatggctgaactagaagctgtgttagaacagcatgggagccagccttctaacagctacccttccatcataagtgactcttctgcccttgaggacctgcgaaatccagaacaaagcacatcagaaaaag\n",
      "cagtattaacttcacagaaaagtagtgaataccctataagccagaatccagaaggcctttctgctgacaagtttgaggtgtctgcagatagttctaccagtaaaaataaagaaccaggagtggaaag\n",
      "gtcatccccttctaaatgcccatcattagatgataggtggtacatgcacagttgctctgggagtcttcagaatagaaactacccatctcaagaggagctcattaaggttgttgatgtggaggagcaacagctggaagagtctgggccacacgatttgacggaaacatcttacttgccaaggcaagatctag\n",
      "agggaaccccttacctggaatctggaatcagcctcttctctgatgaccctgaatctgatccttctgaagacagagccccagagtcagctcgtgttggcaacataccatcttcaacctctgcattgaaagttccccaattgaaagttgcagaatctgcccagagtccagctgctgctcatactactgatactgctgggtataatgcaatggaagaaagtgtgagcagggagaagccagaattgacagcttcaacagaaagggtcaacaaaagaatgtccatggtggtgtctggcctgaccccagaagaattt\n",
      "atgctcgtgtacaagtttgccagaaaacaccacatcactttaactaatctaattactgaagagactactcatgttgttatgaaaacag\n",
      "atgctgagtttgtgtgtgaacggacactgaaatattttctaggaattgcgggaggaaaatgggtagttagctatttct\n",
      "gggtgacccagtctattaaagaaagaaaaatgctgaatgag\n",
      "catgattttgaagtcagaggagatgtggtcaatggaagaaaccaccaaggtccaaagcgagcaagagaatcccaggacagaaag\n",
      "atcttcagggggctagaaatctgttgctatgggcccttcaccaacatgcccacag\n",
      "atcaactggaatggatggtacagctgtgtggtgcttctgtggtgaaggagctttcatcattcacccttggcaca\n",
      "ggtgtccacccaattgtggttgtgcagccagatgcctggacagaggacaatggcttccatg\n",
      "caattgggcagatgtgtgaggcacctgtggtgacccgagagtgggtgttggacagtgtagcactctaccagtgccaggagctggacacctacctgataccccagatcccccacagccactactga\n"
     ]
    }
   ],
   "source": [
    "with open('brca1_cds.dna') as f:\n",
    "    for line in f:\n",
    "        print(line.strip())"
   ]
  },
  {
   "cell_type": "markdown",
   "metadata": {},
   "source": [
    "Remember that even when the loop has finished the **loop variable** persists:"
   ]
  },
  {
   "cell_type": "code",
   "execution_count": 61,
   "metadata": {},
   "outputs": [
    {
     "data": {
      "text/plain": [
       "'caattgggcagatgtgtgaggcacctgtggtgacccgagagtgggtgttggacagtgtagcactctaccagtgccaggagctggacacctacctgataccccagatcccccacagccactactga\\n'"
      ]
     },
     "execution_count": 61,
     "metadata": {},
     "output_type": "execute_result"
    }
   ],
   "source": [
    "line"
   ]
  },
  {
   "cell_type": "markdown",
   "metadata": {},
   "source": [
    "This is sometimes useful to test code interactively. For instance how should we convert the *str* in each line from DNA alphabet to RNA alphabet?"
   ]
  },
  {
   "cell_type": "code",
   "execution_count": 62,
   "metadata": {},
   "outputs": [
    {
     "data": {
      "text/plain": [
       "'caauugggcagaugugugaggcaccuguggugacccgagaguggguguuggacaguguagcacucuaccagugccaggagcuggacaccuaccugauaccccagaucccccacagccacuacuga\\n'"
      ]
     },
     "execution_count": 62,
     "metadata": {},
     "output_type": "execute_result"
    }
   ],
   "source": [
    "line.replace('t', 'u')"
   ]
  },
  {
   "cell_type": "markdown",
   "metadata": {},
   "source": [
    "To save this line to a file we need to open the new file in *write* mode"
   ]
  },
  {
   "cell_type": "code",
   "execution_count": 64,
   "metadata": {},
   "outputs": [],
   "source": [
    "with open('brca1_cds.rna', 'w') as f_rna:\n",
    "    f_rna.write(line.replace('t', 'u'))"
   ]
  },
  {
   "cell_type": "markdown",
   "metadata": {},
   "source": [
    "If we want to store all lines we can use a for loop."
   ]
  },
  {
   "cell_type": "code",
   "execution_count": 65,
   "metadata": {},
   "outputs": [],
   "source": [
    "with open('brca1_cds.dna') as f_dna, open('brca1_cds.rna', 'w') as f_rna:\n",
    "    for line in f_dna:\n",
    "        f_rna.write(line.replace('t', 'u'))"
   ]
  }
 ],
 "metadata": {
  "kernelspec": {
   "display_name": "Python 3",
   "language": "python",
   "name": "python3"
  },
  "language_info": {
   "codemirror_mode": {
    "name": "ipython",
    "version": 3
   },
   "file_extension": ".py",
   "mimetype": "text/x-python",
   "name": "python",
   "nbconvert_exporter": "python",
   "pygments_lexer": "ipython3",
   "version": "3.7.4"
  }
 },
 "nbformat": 4,
 "nbformat_minor": 2
}
