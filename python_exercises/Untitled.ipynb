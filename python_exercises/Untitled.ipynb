{
 "cells": [
  {
   "cell_type": "code",
   "execution_count": 2,
   "metadata": {},
   "outputs": [
    {
     "name": "stdout",
     "output_type": "stream",
     "text": [
      "Levin           2020   Polygenic Risk Scores and Coronary Artery Disease: Ready for Prime Time?\n",
      "Ye              2020   A genome-wide multiphenotypic association analysis identified candidate genes and gene ontology shared by four common risky behaviors.\n",
      "Wang            2019   Integrating genome-wide association study and expression quantitative trait loci data identifies NEGR1 as a causal risk gene of major depression disorder.\n",
      "Chen            2020   Waist circumference increases risk of coronary heart disease: Evidence from a Mendelian randomization study.\n",
      "Lee             2020   Epigenetic age signatures in bones.\n",
      "Tardif          2020   Study design of Dal-GenE, a pharmacogenetic trial targeting reduction of cardiovascular events with dalcetrapib.\n",
      "Talouarn        2020   Genome wide association analysis on semen volume and milk yield using different strategies of imputation to whole genome sequence in French dairy goats.\n",
      "Fenizia         2020   Genetic and epigenetic regulation of natural resistance to HIV-1 infection: new approaches to unveil the HESN secret.\n",
      "Thelwall        2020   Is useful research data usually shared? An investigation of genome-wide association study summary statistics.\n",
      "Sok             2020   Utilization of archived neonatal dried blood spots for genome-wide genotyping.\n",
      "Seo             2020   A genome-wide association study on liver enzymes in Korean population.\n",
      "Kim             2020   netGO: R-Shiny package for network-integrated pathway enrichment analysis.\n",
      "Martínez-Barriocanal 2020   <i>PVT1</i> Long Non-coding RNA in Gastrointestinal Cancer.\n",
      "Gao             2020   Replication study of susceptibility variants associated with allergic rhinitis and allergy in Han Chinese.\n",
      "Meijer          2020   Genome-Wide DNA Methylation Patterns in Persistent Attention-Deficit/Hyperactivity Disorder and in Association With Impulsive and Callous Traits.\n",
      "Cheng           2020   Assessing the Relationship Between Gut Microbiota and Bone Mineral Density.\n",
      "Schmidt         2020   Novel Alleles for Combined Drought and Heat Stress Tolerance in Wheat.\n",
      "San             2020   Current Affairs of Microbial Genome-Wide Association Studies: Approaches, Bottlenecks and Analytical Pitfalls.\n",
      "Xie             2020   Ancestry inference and admixture component estimations of Chinese Kazak group based on 165 AIM-SNPs via NGS platform.\n",
      "Cho             2020   Exploiting horizontal pleiotropy to search for causal pathways within a Mendelian randomization framework.\n"
     ]
    },
    {
     "data": {
      "text/plain": [
       "<module 'get_info_pubmed' from '/mnt/c/Users/worten/masteromics/python_exercises/get_info_pubmed.py'>"
      ]
     },
     "execution_count": 2,
     "metadata": {},
     "output_type": "execute_result"
    }
   ],
   "source": [
    "import get_info_pubmed\n",
    "\n",
    "get_info_pubmed\n"
   ]
  },
  {
   "cell_type": "code",
   "execution_count": 3,
   "metadata": {},
   "outputs": [
    {
     "data": {
      "text/plain": [
       "<module 'get_seqs_genbank' from '/mnt/c/Users/worten/masteromics/python_exercises/get_seqs_genbank.py'>"
      ]
     },
     "execution_count": 3,
     "metadata": {},
     "output_type": "execute_result"
    }
   ],
   "source": [
    "import get_seqs_genbank\n",
    "\n",
    "get_seqs_genbank\n"
   ]
  }
 ],
 "metadata": {
  "kernelspec": {
   "display_name": "Python 3",
   "language": "python",
   "name": "python3"
  },
  "language_info": {
   "codemirror_mode": {
    "name": "ipython",
    "version": 3
   },
   "file_extension": ".py",
   "mimetype": "text/x-python",
   "name": "python",
   "nbconvert_exporter": "python",
   "pygments_lexer": "ipython3",
   "version": "3.7.4"
  }
 },
 "nbformat": 4,
 "nbformat_minor": 2
}
