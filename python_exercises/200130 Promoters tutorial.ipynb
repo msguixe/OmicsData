{
 "cells": [
  {
   "cell_type": "markdown",
   "metadata": {},
   "source": [
    "\n",
    "## Tutorial promoters"
   ]
  },
  {
   "cell_type": "code",
   "execution_count": 1,
   "metadata": {},
   "outputs": [
    {
     "data": {
      "text/plain": [
       "str"
      ]
     },
     "execution_count": 1,
     "metadata": {},
     "output_type": "execute_result"
    }
   ],
   "source": [
    "# Read the fasta file\n",
    "\n",
    "f = open('sequence.FASTA')\n",
    "content = f.read()\n",
    "type(content)\n"
   ]
  },
  {
   "cell_type": "code",
   "execution_count": 2,
   "metadata": {},
   "outputs": [
    {
     "name": "stdout",
     "output_type": "stream",
     "text": [
      "171367\n",
      "2415\n",
      "168903\n"
     ]
    }
   ],
   "source": [
    "# How many bases are in the genome?\n",
    "\n",
    "splitcontent = content.splitlines()  #let's split the lines first\n",
    "print(len(content)) #total length of the genome + first line (indentifier)\n",
    "type(splitcontent) #this is a list\n",
    "print(len(splitcontent)) #a list with 2415 elements (lines f code)\n",
    "genome = splitcontent[1:2415] #we select from the 2nd element to the last\n",
    "genome_string = ''.join(genome) #we join the elments of the list to a string\n",
    "\n",
    "print(len(genome_string)) #The genome has 168903 bases"
   ]
  },
  {
   "cell_type": "code",
   "execution_count": 3,
   "metadata": {},
   "outputs": [
    {
     "data": {
      "text/plain": [
       "53779"
      ]
     },
     "execution_count": 3,
     "metadata": {},
     "output_type": "execute_result"
    }
   ],
   "source": [
    "#How many A's?\n",
    "\n",
    "genome_string.count('A')\n"
   ]
  },
  {
   "cell_type": "code",
   "execution_count": 4,
   "metadata": {},
   "outputs": [
    {
     "data": {
      "text/plain": [
       "55502"
      ]
     },
     "execution_count": 4,
     "metadata": {},
     "output_type": "execute_result"
    }
   ],
   "source": [
    "#How many A's in the complementary (=T)\n",
    "\n",
    "genome_string.count('T')\n"
   ]
  },
  {
   "cell_type": "code",
   "execution_count": 5,
   "metadata": {},
   "outputs": [
    {
     "data": {
      "text/plain": [
       "93"
      ]
     },
     "execution_count": 5,
     "metadata": {},
     "output_type": "execute_result"
    }
   ],
   "source": [
    "#How many possible TTGATT MotA boxes (this is the -30 pattern) exist in the forward strand? \n",
    "\n",
    "genome_string.count('TTGATT')"
   ]
  },
  {
   "cell_type": "code",
   "execution_count": 6,
   "metadata": {},
   "outputs": [
    {
     "data": {
      "text/plain": [
       "129"
      ]
     },
     "execution_count": 6,
     "metadata": {},
     "output_type": "execute_result"
    }
   ],
   "source": [
    "#How many in the complementary?\n",
    "genome_string.count('AATCAA')"
   ]
  },
  {
   "cell_type": "code",
   "execution_count": 43,
   "metadata": {},
   "outputs": [
    {
     "name": "stdout",
     "output_type": "stream",
     "text": [
      "1398\n"
     ]
    }
   ],
   "source": [
    "#How many possible TAnAnT promoter regions (this is the -10 pattern) exist in the forward strand?\n",
    "\n",
    "import re\n",
    "\n",
    "#.search: finds the first match\n",
    "#.match: only checks the beggining of the sequence\n",
    "#.findall: returns a list with all matches (non-overlapping)\n",
    "\n",
    "x_for = re.findall('TA.A.T', genome_string)\n",
    "\n",
    "print(len(x_for))\n"
   ]
  },
  {
   "cell_type": "code",
   "execution_count": 44,
   "metadata": {},
   "outputs": [
    {
     "name": "stdout",
     "output_type": "stream",
     "text": [
      "1448\n"
     ]
    }
   ],
   "source": [
    "#How many in the complementary strand?\n",
    "\n",
    "x_rev = re.findall('A.T.TA', genome_string)\n",
    "\n",
    "print(len(x_rev))\n"
   ]
  },
  {
   "cell_type": "code",
   "execution_count": 63,
   "metadata": {},
   "outputs": [
    {
     "name": "stdout",
     "output_type": "stream",
     "text": [
      "TGAAAGCAATAT\n",
      "35\n",
      "31\n"
     ]
    }
   ],
   "source": [
    "#How many possible promoters match the complete pattern (a/t)(a/t)TGCTT(t/c)A?\n",
    "\n",
    "from Compl_rev_seq import compl, reverse, rev_compl\n",
    "\n",
    "consensus = 'ATATTGCTTTCA'\n",
    "\n",
    "consensus_rev = rev_compl(consensus)\n",
    "\n",
    "consensus = '[AT][AT]TGCTT[TC]A'\n",
    "\n",
    "print(consensus_rev)\n",
    "\n",
    "consensus_rev ='T[GA]AAGCA[AT][AT]'\n",
    "\n",
    "y_for = re.findall(consensus, genome_string)\n",
    "\n",
    "print(len(y_for))\n",
    "\n",
    "y_rev = re.findall(consensus_rev, genome_string)\n",
    "\n",
    "print(len(y_rev))\n"
   ]
  },
  {
   "cell_type": "code",
   "execution_count": 64,
   "metadata": {},
   "outputs": [
    {
     "name": "stdout",
     "output_type": "stream",
     "text": [
      "4145\n",
      "3996\n"
     ]
    }
   ],
   "source": [
    "#How many possible promoters match the complete pattern TAnnnT?\n",
    "\n",
    "z_for = re.findall('TA...T', genome_string)\n",
    "\n",
    "print(len(z_for))\n",
    "\n",
    "z_rev = re.findall('A...TA', genome_string)\n",
    "\n",
    "print(len(z_rev))"
   ]
  },
  {
   "cell_type": "code",
   "execution_count": 69,
   "metadata": {},
   "outputs": [
    {
     "name": "stdout",
     "output_type": "stream",
     "text": [
      "[AT][AT]TGCTT[TC]A.{11,13}TA...T\n",
      "A...TA.{11,13}T[GA]AAGCA[AT][AT]\n",
      "6\n",
      "12\n"
     ]
    }
   ],
   "source": [
    "#How many possible promoters match the complete pattern (a/t)(a/t)TGCTT(t/c)A + n*(11to13) + TAnnnT?\n",
    "\n",
    "consensus_all = consensus + '.{11,13}' + 'TA...T'\n",
    "print(consensus_all)\n",
    "consensus_all_rev = 'A...TA'+ '.{11,13}' + consensus_rev\n",
    "print(consensus_all_rev)\n",
    "\n",
    "all_for = re.findall(consensus_all, genome_string)\n",
    "\n",
    "print(len(all_for))\n",
    "\n",
    "all_rev = re.findall(consensus_all_rev, genome_string)\n",
    "\n",
    "print(len(all_rev))"
   ]
  },
  {
   "cell_type": "code",
   "execution_count": 79,
   "metadata": {},
   "outputs": [
    {
     "name": "stdout",
     "output_type": "stream",
     "text": [
      "ATTATACA\n",
      "[AT][AT]TGCTT[TC]A.{8,10}TG.TATAAT\n",
      "ATTATA.CA.{8,10}T[GA]AAGCA[AT][AT]\n",
      "2\n",
      "2\n"
     ]
    }
   ],
   "source": [
    "#In 1999 Marshall et al. proposed tje more restricted pattern: (a/t)(a/t)TGCTT(t/c)A + n*(8to10) + TG(n)TATAAT.\n",
    "#How many possible promoters match this pattern?\n",
    "\n",
    "seq2 = 'TGTATAAT'\n",
    "seq2_rev = rev_compl(seq2)\n",
    "print(seq2_rev)\n",
    "\n",
    "consensus_all2 = consensus + '.{8,10}' + 'TG.TATAAT'\n",
    "print(consensus_all2)\n",
    "consensus_all_rev2 = 'ATTATA.CA'+ '.{8,10}' + consensus_rev\n",
    "print(consensus_all_rev2)\n",
    "\n",
    "all_for2 = re.findall(consensus_all2, genome_string)\n",
    "\n",
    "print(len(all_for2))\n",
    "\n",
    "all_rev2 = re.findall(consensus_all_rev2, genome_string)\n",
    "\n",
    "print(len(all_rev2))"
   ]
  },
  {
   "cell_type": "code",
   "execution_count": 84,
   "metadata": {},
   "outputs": [
    {
     "name": "stdout",
     "output_type": "stream",
     "text": [
      "['AATGCTTTAAAACTTTCATGGTATAAT', 'AATGCTTTATAACTGTTGGTGGTATAAT']\n",
      "AATGCTTCAGTTTTGTGTGTTATAAT AATGCTTCACGTTAAAACGTGGTATAAT\n",
      "['ATTATAACACACAAAACTGAAGCATT', 'ATTATACCACGTTTTAACGTGAAGCATT']\n"
     ]
    }
   ],
   "source": [
    "#Which are the actual sequences that match the pattern? \n",
    "\n",
    "print(all_for2)\n",
    "\n",
    "all_rev2_rev1 = rev_compl(all_rev2[0])\n",
    "all_rev2_rev2 = rev_compl(all_rev2[1])\n",
    "\n",
    "print(all_rev2_rev1, all_rev2_rev2)\n",
    "\n",
    "print(all_rev2)\n",
    "\n",
    "AATGCTTTAAAACTTTCATGGTATAAT\n",
    "AATGCTTCAGTTTTGTGTGTTATAAT\n",
    "\n",
    "AATGCTTTATAACTGTTGGTGGTATAAT\n",
    "AATGCTTCACGTTAAAACGTGGTATAAT\n",
    "\n",
    "ATTATAACACACAAAACTGAAGCATT\n",
    "ATTATACCACGTTTTAACGTGAAGCATT"
   ]
  },
  {
   "cell_type": "code",
   "execution_count": 90,
   "metadata": {},
   "outputs": [
    {
     "name": "stdout",
     "output_type": "stream",
     "text": [
      "0\n"
     ]
    }
   ],
   "source": [
    "seq3 = re.findall('AATGCTTCACGTTAAAACGTGGTATAAT', genome_string)\n",
    "\n",
    "print(len(seq3))"
   ]
  },
  {
   "cell_type": "code",
   "execution_count": 107,
   "metadata": {},
   "outputs": [
    {
     "ename": "KeyError",
     "evalue": "'R'",
     "output_type": "error",
     "traceback": [
      "\u001b[1;31m---------------------------------------------------------------------------\u001b[0m",
      "\u001b[1;31mKeyError\u001b[0m                                  Traceback (most recent call last)",
      "\u001b[1;32m<ipython-input-107-65b9b0670d34>\u001b[0m in \u001b[0;36m<module>\u001b[1;34m\u001b[0m\n\u001b[1;32m----> 1\u001b[1;33m \u001b[0mgenome_string_rev\u001b[0m \u001b[1;33m=\u001b[0m \u001b[0mrev_compl\u001b[0m\u001b[1;33m(\u001b[0m\u001b[0mgenome_string\u001b[0m\u001b[1;33m)\u001b[0m\u001b[1;33m\u001b[0m\u001b[1;33m\u001b[0m\u001b[0m\n\u001b[0m\u001b[0;32m      2\u001b[0m \u001b[0mprint\u001b[0m\u001b[1;33m(\u001b[0m\u001b[0mtype\u001b[0m\u001b[1;33m(\u001b[0m\u001b[0mgenome_string\u001b[0m\u001b[1;33m)\u001b[0m\u001b[1;33m)\u001b[0m\u001b[1;33m\u001b[0m\u001b[1;33m\u001b[0m\u001b[0m\n\u001b[0;32m      3\u001b[0m \u001b[0mseq4\u001b[0m \u001b[1;33m=\u001b[0m \u001b[1;34m'asdsadsad'\u001b[0m\u001b[1;33m\u001b[0m\u001b[1;33m\u001b[0m\u001b[0m\n\u001b[0;32m      4\u001b[0m \u001b[0mprint\u001b[0m\u001b[1;33m(\u001b[0m\u001b[0mtype\u001b[0m\u001b[1;33m(\u001b[0m\u001b[0mseq4\u001b[0m\u001b[1;33m)\u001b[0m\u001b[1;33m)\u001b[0m\u001b[1;33m\u001b[0m\u001b[1;33m\u001b[0m\u001b[0m\n\u001b[0;32m      5\u001b[0m \u001b[1;31m#print(genome_string)\u001b[0m\u001b[1;33m\u001b[0m\u001b[1;33m\u001b[0m\u001b[1;33m\u001b[0m\u001b[0m\n",
      "\u001b[1;32m~\\Compl_rev_seq.py\u001b[0m in \u001b[0;36mrev_compl\u001b[1;34m(seq)\u001b[0m\n\u001b[0;32m     24\u001b[0m     \"\"\"Creates the reverse from the complementary of a given sequence\n\u001b[0;32m     25\u001b[0m     str -> str\"\"\"\n\u001b[1;32m---> 26\u001b[1;33m     \u001b[1;32mreturn\u001b[0m \u001b[0mcompl\u001b[0m\u001b[1;33m(\u001b[0m\u001b[0mreverse\u001b[0m\u001b[1;33m(\u001b[0m\u001b[0mseq\u001b[0m\u001b[1;33m)\u001b[0m\u001b[1;33m)\u001b[0m\u001b[1;33m\u001b[0m\u001b[1;33m\u001b[0m\u001b[0m\n\u001b[0m",
      "\u001b[1;32m~\\Compl_rev_seq.py\u001b[0m in \u001b[0;36mcompl\u001b[1;34m(seq)\u001b[0m\n\u001b[0;32m     10\u001b[0m     \u001b[0mcompl_seq\u001b[0m \u001b[1;33m=\u001b[0m \u001b[1;34m''\u001b[0m\u001b[1;33m\u001b[0m\u001b[1;33m\u001b[0m\u001b[0m\n\u001b[0;32m     11\u001b[0m     \u001b[1;32mfor\u001b[0m \u001b[0mbase\u001b[0m \u001b[1;32min\u001b[0m \u001b[0mseq\u001b[0m\u001b[1;33m:\u001b[0m\u001b[1;33m\u001b[0m\u001b[1;33m\u001b[0m\u001b[0m\n\u001b[1;32m---> 12\u001b[1;33m         \u001b[0mcompl_seq\u001b[0m \u001b[1;33m+=\u001b[0m \u001b[0mbase_compl\u001b[0m\u001b[1;33m[\u001b[0m\u001b[0mbase\u001b[0m\u001b[1;33m]\u001b[0m\u001b[1;33m\u001b[0m\u001b[1;33m\u001b[0m\u001b[0m\n\u001b[0m\u001b[0;32m     13\u001b[0m     \u001b[1;32mreturn\u001b[0m \u001b[0mcompl_seq\u001b[0m\u001b[1;33m\u001b[0m\u001b[1;33m\u001b[0m\u001b[0m\n\u001b[0;32m     14\u001b[0m \u001b[1;33m\u001b[0m\u001b[0m\n",
      "\u001b[1;31mKeyError\u001b[0m: 'R'"
     ]
    }
   ],
   "source": [
    "genome_string_rev = rev_compl(genome_string)\n",
    "print(type(genome_string))\n",
    "seq4 = 'asdsadsad'\n",
    "print(type(seq4))\n",
    "#print(genome_string)"
   ]
  }
 ],
 "metadata": {
  "kernelspec": {
   "display_name": "Python 3",
   "language": "python",
   "name": "python3"
  },
  "language_info": {
   "codemirror_mode": {
    "name": "ipython",
    "version": 3
   },
   "file_extension": ".py",
   "mimetype": "text/x-python",
   "name": "python",
   "nbconvert_exporter": "python",
   "pygments_lexer": "ipython3",
   "version": "3.7.4"
  }
 },
 "nbformat": 4,
 "nbformat_minor": 2
}
